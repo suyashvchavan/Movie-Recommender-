{
 "cells": [
  {
   "cell_type": "code",
   "execution_count": 1,
   "metadata": {},
   "outputs": [],
   "source": [
    "import pandas as pd\n",
    "import numpy as np\n",
    "import ast\n",
    "import matplotlib.pyplot as plt\n",
    "import seaborn as sns\n",
    "from scipy import stats\n",
    "%matplotlib inline"
   ]
  },
  {
   "cell_type": "code",
   "execution_count": 2,
   "metadata": {},
   "outputs": [],
   "source": [
    "from sklearn.feature_extraction.text import CountVectorizer, TfidfVectorizer\n",
    "from sklearn.metrics.pairwise import cosine_similarity,linear_kernel"
   ]
  },
  {
   "cell_type": "code",
   "execution_count": 3,
   "metadata": {},
   "outputs": [],
   "source": [
    "from nltk.stem.snowball import SnowballStemmer\n",
    "from nltk.stem.wordnet import WordNetLemmatizer\n",
    "from nltk.corpus import wordnet\n",
    "from surprise import Reader,Dataset,SVD,evaluate"
   ]
  },
  {
   "cell_type": "code",
   "execution_count": 14,
   "metadata": {},
   "outputs": [],
   "source": [
    "from IPython.display import HTML,Image\n",
    "pd.set_option('display.max_colwidth', 100)"
   ]
  },
  {
   "cell_type": "markdown",
   "metadata": {},
   "source": [
    "## Content\n",
    "1. __Simple Recommender__ :<br>\n",
    "`1.1 IMDB Top 250`: Top 250 Movies based on calculated IMDB ratings<br> \n",
    "`1.2 Recommendation by Genre`: Top Movies for every genre in database\n",
    "<br>\n",
    "***\n",
    "2. __Content Based Recommender__:<br>\n",
    "`2.1 Movie Description Based:` Recommend movies based on overview and tagline<br>\n",
    "`2.2 Metadata based`: Recommend movies based on Cast, Director and keywords of movie\n",
    "***\n",
    "3. __Collaborative Filtering using Surprise__:<br>\n",
    "The personalised recommender based on users Past history of ratings and similarity between his and other users rating history\n",
    "***\n",
    "4. __Hybrid Recommender__:<br>\n",
    "Recommeder system based on collaberation of Contend based recommender and collaberative filtering, It leverages are features of both recommender for better recommendations"
   ]
  },
  {
   "cell_type": "markdown",
   "metadata": {},
   "source": [
    "#### Loadind the data"
   ]
  },
  {
   "cell_type": "code",
   "execution_count": 5,
   "metadata": {},
   "outputs": [
    {
     "name": "stderr",
     "output_type": "stream",
     "text": [
      "/Users/suyashchavan/anaconda3/lib/python3.7/site-packages/IPython/core/interactiveshell.py:3020: DtypeWarning: Columns (10) have mixed types. Specify dtype option on import or set low_memory=False.\n",
      "  interactivity=interactivity, compiler=compiler, result=result)\n"
     ]
    },
    {
     "data": {
      "text/html": [
       "<div>\n",
       "<style scoped>\n",
       "    .dataframe tbody tr th:only-of-type {\n",
       "        vertical-align: middle;\n",
       "    }\n",
       "\n",
       "    .dataframe tbody tr th {\n",
       "        vertical-align: top;\n",
       "    }\n",
       "\n",
       "    .dataframe thead th {\n",
       "        text-align: right;\n",
       "    }\n",
       "</style>\n",
       "<table border=\"1\" class=\"dataframe\">\n",
       "  <thead>\n",
       "    <tr style=\"text-align: right;\">\n",
       "      <th></th>\n",
       "      <th>adult</th>\n",
       "      <th>belongs_to_collection</th>\n",
       "      <th>budget</th>\n",
       "      <th>genres</th>\n",
       "      <th>homepage</th>\n",
       "      <th>id</th>\n",
       "      <th>imdb_id</th>\n",
       "      <th>original_language</th>\n",
       "      <th>original_title</th>\n",
       "      <th>overview</th>\n",
       "      <th>...</th>\n",
       "      <th>release_date</th>\n",
       "      <th>revenue</th>\n",
       "      <th>runtime</th>\n",
       "      <th>spoken_languages</th>\n",
       "      <th>status</th>\n",
       "      <th>tagline</th>\n",
       "      <th>title</th>\n",
       "      <th>video</th>\n",
       "      <th>vote_average</th>\n",
       "      <th>vote_count</th>\n",
       "    </tr>\n",
       "  </thead>\n",
       "  <tbody>\n",
       "    <tr>\n",
       "      <th>0</th>\n",
       "      <td>False</td>\n",
       "      <td>{'id': 10194, 'name': 'Toy Story Collection', ...</td>\n",
       "      <td>30000000</td>\n",
       "      <td>[{'id': 16, 'name': 'Animation'}, {'id': 35, '...</td>\n",
       "      <td>http://toystory.disney.com/toy-story</td>\n",
       "      <td>862</td>\n",
       "      <td>tt0114709</td>\n",
       "      <td>en</td>\n",
       "      <td>Toy Story</td>\n",
       "      <td>Led by Woody, Andy's toys live happily in his ...</td>\n",
       "      <td>...</td>\n",
       "      <td>1995-10-30</td>\n",
       "      <td>373554033.0</td>\n",
       "      <td>81.0</td>\n",
       "      <td>[{'iso_639_1': 'en', 'name': 'English'}]</td>\n",
       "      <td>Released</td>\n",
       "      <td>NaN</td>\n",
       "      <td>Toy Story</td>\n",
       "      <td>False</td>\n",
       "      <td>7.7</td>\n",
       "      <td>5415.0</td>\n",
       "    </tr>\n",
       "    <tr>\n",
       "      <th>1</th>\n",
       "      <td>False</td>\n",
       "      <td>NaN</td>\n",
       "      <td>65000000</td>\n",
       "      <td>[{'id': 12, 'name': 'Adventure'}, {'id': 14, '...</td>\n",
       "      <td>NaN</td>\n",
       "      <td>8844</td>\n",
       "      <td>tt0113497</td>\n",
       "      <td>en</td>\n",
       "      <td>Jumanji</td>\n",
       "      <td>When siblings Judy and Peter discover an encha...</td>\n",
       "      <td>...</td>\n",
       "      <td>1995-12-15</td>\n",
       "      <td>262797249.0</td>\n",
       "      <td>104.0</td>\n",
       "      <td>[{'iso_639_1': 'en', 'name': 'English'}, {'iso...</td>\n",
       "      <td>Released</td>\n",
       "      <td>Roll the dice and unleash the excitement!</td>\n",
       "      <td>Jumanji</td>\n",
       "      <td>False</td>\n",
       "      <td>6.9</td>\n",
       "      <td>2413.0</td>\n",
       "    </tr>\n",
       "  </tbody>\n",
       "</table>\n",
       "<p>2 rows × 24 columns</p>\n",
       "</div>"
      ],
      "text/plain": [
       "   adult                              belongs_to_collection    budget  \\\n",
       "0  False  {'id': 10194, 'name': 'Toy Story Collection', ...  30000000   \n",
       "1  False                                                NaN  65000000   \n",
       "\n",
       "                                              genres  \\\n",
       "0  [{'id': 16, 'name': 'Animation'}, {'id': 35, '...   \n",
       "1  [{'id': 12, 'name': 'Adventure'}, {'id': 14, '...   \n",
       "\n",
       "                               homepage    id    imdb_id original_language  \\\n",
       "0  http://toystory.disney.com/toy-story   862  tt0114709                en   \n",
       "1                                   NaN  8844  tt0113497                en   \n",
       "\n",
       "  original_title                                           overview  \\\n",
       "0      Toy Story  Led by Woody, Andy's toys live happily in his ...   \n",
       "1        Jumanji  When siblings Judy and Peter discover an encha...   \n",
       "\n",
       "     ...     release_date      revenue runtime  \\\n",
       "0    ...       1995-10-30  373554033.0    81.0   \n",
       "1    ...       1995-12-15  262797249.0   104.0   \n",
       "\n",
       "                                    spoken_languages    status  \\\n",
       "0           [{'iso_639_1': 'en', 'name': 'English'}]  Released   \n",
       "1  [{'iso_639_1': 'en', 'name': 'English'}, {'iso...  Released   \n",
       "\n",
       "                                     tagline      title  video vote_average  \\\n",
       "0                                        NaN  Toy Story  False          7.7   \n",
       "1  Roll the dice and unleash the excitement!    Jumanji  False          6.9   \n",
       "\n",
       "  vote_count  \n",
       "0     5415.0  \n",
       "1     2413.0  \n",
       "\n",
       "[2 rows x 24 columns]"
      ]
     },
     "execution_count": 5,
     "metadata": {},
     "output_type": "execute_result"
    }
   ],
   "source": [
    "df = pd.read_csv('movies_metadata.csv')\n",
    "df.head(2)"
   ]
  },
  {
   "cell_type": "code",
   "execution_count": 6,
   "metadata": {},
   "outputs": [
    {
     "name": "stdout",
     "output_type": "stream",
     "text": [
      "<class 'pandas.core.frame.DataFrame'>\n",
      "RangeIndex: 45466 entries, 0 to 45465\n",
      "Data columns (total 24 columns):\n",
      "adult                    45466 non-null object\n",
      "belongs_to_collection    4494 non-null object\n",
      "budget                   45466 non-null object\n",
      "genres                   45466 non-null object\n",
      "homepage                 7782 non-null object\n",
      "id                       45466 non-null object\n",
      "imdb_id                  45449 non-null object\n",
      "original_language        45455 non-null object\n",
      "original_title           45466 non-null object\n",
      "overview                 44512 non-null object\n",
      "popularity               45461 non-null object\n",
      "poster_path              45080 non-null object\n",
      "production_companies     45463 non-null object\n",
      "production_countries     45463 non-null object\n",
      "release_date             45379 non-null object\n",
      "revenue                  45460 non-null float64\n",
      "runtime                  45203 non-null float64\n",
      "spoken_languages         45460 non-null object\n",
      "status                   45379 non-null object\n",
      "tagline                  20412 non-null object\n",
      "title                    45460 non-null object\n",
      "video                    45460 non-null object\n",
      "vote_average             45460 non-null float64\n",
      "vote_count               45460 non-null float64\n",
      "dtypes: float64(4), object(20)\n",
      "memory usage: 8.3+ MB\n"
     ]
    }
   ],
   "source": [
    "df.info()"
   ]
  },
  {
   "cell_type": "code",
   "execution_count": 7,
   "metadata": {},
   "outputs": [],
   "source": [
    "df = df.drop(['homepage','video'],axis=1)"
   ]
  },
  {
   "cell_type": "code",
   "execution_count": 11,
   "metadata": {},
   "outputs": [],
   "source": [
    "base_poster_url = 'http://image.tmdb.org/t/p/w185/'\n",
    "df['poster_path'] = \"<img src='\" + base_poster_url + df['poster_path'] + \"' style='height:100px;'>\""
   ]
  },
  {
   "cell_type": "code",
   "execution_count": 8,
   "metadata": {},
   "outputs": [],
   "source": [
    "df['genres']  = df['genres'].fillna('[]').apply(ast.literal_eval)\n",
    "df['genres'] = df['genres'].apply(lambda x:[i['name'] for i in x] if isinstance(x,list) else [])"
   ]
  },
  {
   "cell_type": "markdown",
   "metadata": {},
   "source": [
    "# 1. Simple Recommender"
   ]
  },
  {
   "cell_type": "markdown",
   "metadata": {},
   "source": [
    "This is a very basic model based on movies popularity and critical acclaimation, this model does not give personalised recommendation"
   ]
  },
  {
   "cell_type": "markdown",
   "metadata": {},
   "source": [
    "#####  I will use IMDB's weighted rating formula to construct my chart. Mathematically, it is represented as follows:\n",
    "\n",
    "##### Weighted Rating (WR) =  ((v/(v+m)).R)+((m/(v+m)).C)\n",
    " \n",
    "\n",
    "##### where,\n",
    "\n",
    "##### v is the number of votes for the movie\n",
    "##### m is the minimum votes required to be listed in the chart\n",
    "##### R is the average rating of the movie\n",
    "##### C is the mean vote across the whole report"
   ]
  },
  {
   "cell_type": "code",
   "execution_count": 9,
   "metadata": {},
   "outputs": [],
   "source": [
    "vote_counts = df[df['vote_count'].notnull()]['vote_count'].astype('int')\n",
    "vote_averages = df[df['vote_average'].notnull()]['vote_average'].astype('int')\n",
    "C = vote_averages.mean()\n",
    "m = vote_counts.quantile(0.9)"
   ]
  },
  {
   "cell_type": "code",
   "execution_count": 10,
   "metadata": {},
   "outputs": [],
   "source": [
    "df['year'] = pd.to_datetime(df['release_date'],errors='coerce').apply(lambda x: str(x).split('-')[0] if x != np.nan else np.nan)"
   ]
  },
  {
   "cell_type": "code",
   "execution_count": 15,
   "metadata": {},
   "outputs": [
    {
     "data": {
      "text/html": [
       "<table border=\"1\" class=\"dataframe\">\n",
       "  <thead>\n",
       "    <tr style=\"text-align: right;\">\n",
       "      <th></th>\n",
       "      <th>poster_path</th>\n",
       "      <th>title</th>\n",
       "      <th>year</th>\n",
       "      <th>vote_count</th>\n",
       "      <th>vote_average</th>\n",
       "      <th>popularity</th>\n",
       "      <th>genres</th>\n",
       "    </tr>\n",
       "  </thead>\n",
       "  <tbody>\n",
       "    <tr>\n",
       "      <th>0</th>\n",
       "      <td><img src='http://image.tmdb.org/t/p/w185//rhIRbceoE9lR4veEXuwCC2wARtG.jpg' style='height:100px;'></td>\n",
       "      <td>Toy Story</td>\n",
       "      <td>1995</td>\n",
       "      <td>5415</td>\n",
       "      <td>7.7</td>\n",
       "      <td>21.9469</td>\n",
       "      <td>[Animation, Comedy, Family]</td>\n",
       "    </tr>\n",
       "    <tr>\n",
       "      <th>1</th>\n",
       "      <td><img src='http://image.tmdb.org/t/p/w185//vzmL6fP7aPKNKPRTFnZmiUfciyV.jpg' style='height:100px;'></td>\n",
       "      <td>Jumanji</td>\n",
       "      <td>1995</td>\n",
       "      <td>2413</td>\n",
       "      <td>6.9</td>\n",
       "      <td>17.0155</td>\n",
       "      <td>[Adventure, Fantasy, Family]</td>\n",
       "    </tr>\n",
       "  </tbody>\n",
       "</table>"
      ],
      "text/plain": [
       "<IPython.core.display.HTML object>"
      ]
     },
     "execution_count": 15,
     "metadata": {},
     "output_type": "execute_result"
    }
   ],
   "source": [
    "qualified_df = df[(df['vote_count']>m) & (df['vote_count'].notnull()) & (df['vote_average'].notnull())]\n",
    "qualified_df = qualified_df[['poster_path','title','year','vote_count','vote_average','popularity','genres']]\n",
    "qualified_df['vote_count'] = qualified_df['vote_count'].astype('int')\n",
    "qualified_df.head(2)\n",
    "HTML(qualified_df.head(2).to_html(escape=False))"
   ]
  },
  {
   "cell_type": "code",
   "execution_count": 16,
   "metadata": {},
   "outputs": [
    {
     "data": {
      "text/plain": [
       "(4538, 7)"
      ]
     },
     "execution_count": 16,
     "metadata": {},
     "output_type": "execute_result"
    }
   ],
   "source": [
    "qualified_df.shape"
   ]
  },
  {
   "cell_type": "markdown",
   "metadata": {},
   "source": [
    "### there are total 4538 movies that are qualified to be considered for the recommender charts.\n",
    "\n",
    "##### Lets calculated weighted rating according to mentioned IMDB's formulae"
   ]
  },
  {
   "cell_type": "code",
   "execution_count": 17,
   "metadata": {},
   "outputs": [],
   "source": [
    "def weighted_rating(x):\n",
    "    v = x['vote_count']\n",
    "    R = x['vote_average']\n",
    "    \n",
    "    return (v/(v+m))*R + (m/(v+m)*C)"
   ]
  },
  {
   "cell_type": "code",
   "execution_count": 19,
   "metadata": {},
   "outputs": [
    {
     "data": {
      "text/html": [
       "<table border=\"1\" class=\"dataframe\">\n",
       "  <thead>\n",
       "    <tr style=\"text-align: right;\">\n",
       "      <th></th>\n",
       "      <th>poster_path</th>\n",
       "      <th>title</th>\n",
       "      <th>year</th>\n",
       "      <th>vote_count</th>\n",
       "      <th>vote_average</th>\n",
       "      <th>popularity</th>\n",
       "      <th>genres</th>\n",
       "      <th>WR</th>\n",
       "    </tr>\n",
       "  </thead>\n",
       "  <tbody>\n",
       "    <tr>\n",
       "      <th>0</th>\n",
       "      <td><img src='http://image.tmdb.org/t/p/w185//rhIRbceoE9lR4veEXuwCC2wARtG.jpg' style='height:100px;'></td>\n",
       "      <td>Toy Story</td>\n",
       "      <td>1995</td>\n",
       "      <td>5415</td>\n",
       "      <td>7.7</td>\n",
       "      <td>21.9469</td>\n",
       "      <td>[Animation, Comedy, Family]</td>\n",
       "      <td>7.629540</td>\n",
       "    </tr>\n",
       "    <tr>\n",
       "      <th>1</th>\n",
       "      <td><img src='http://image.tmdb.org/t/p/w185//vzmL6fP7aPKNKPRTFnZmiUfciyV.jpg' style='height:100px;'></td>\n",
       "      <td>Jumanji</td>\n",
       "      <td>1995</td>\n",
       "      <td>2413</td>\n",
       "      <td>6.9</td>\n",
       "      <td>17.0155</td>\n",
       "      <td>[Adventure, Fantasy, Family]</td>\n",
       "      <td>6.797079</td>\n",
       "    </tr>\n",
       "  </tbody>\n",
       "</table>"
      ],
      "text/plain": [
       "<IPython.core.display.HTML object>"
      ]
     },
     "execution_count": 19,
     "metadata": {},
     "output_type": "execute_result"
    }
   ],
   "source": [
    "qualified_df['WR'] = qualified_df.apply(weighted_rating,axis=1)\n",
    "qualified_df.head(2)\n",
    "HTML(qualified_df.head(2).to_html(escape=False))"
   ]
  },
  {
   "cell_type": "markdown",
   "metadata": {},
   "source": [
    "## 1.1 IMDB TOP 250"
   ]
  },
  {
   "cell_type": "code",
   "execution_count": 20,
   "metadata": {},
   "outputs": [
    {
     "data": {
      "text/html": [
       "<table border=\"1\" class=\"dataframe\">\n",
       "  <thead>\n",
       "    <tr style=\"text-align: right;\">\n",
       "      <th></th>\n",
       "      <th>poster_path</th>\n",
       "      <th>title</th>\n",
       "      <th>year</th>\n",
       "      <th>vote_count</th>\n",
       "      <th>vote_average</th>\n",
       "      <th>popularity</th>\n",
       "      <th>genres</th>\n",
       "      <th>WR</th>\n",
       "    </tr>\n",
       "  </thead>\n",
       "  <tbody>\n",
       "    <tr>\n",
       "      <th>314</th>\n",
       "      <td><img src='http://image.tmdb.org/t/p/w185//9O7gLzmreU0nGkIB6K3BsJbzvNv.jpg' style='height:100px;'></td>\n",
       "      <td>The Shawshank Redemption</td>\n",
       "      <td>1994</td>\n",
       "      <td>8358</td>\n",
       "      <td>8.5</td>\n",
       "      <td>51.6454</td>\n",
       "      <td>[Drama, Crime]</td>\n",
       "      <td>8.438857</td>\n",
       "    </tr>\n",
       "    <tr>\n",
       "      <th>834</th>\n",
       "      <td><img src='http://image.tmdb.org/t/p/w185//rPdtLWNsZmAtoZl9PK7S2wE3qiS.jpg' style='height:100px;'></td>\n",
       "      <td>The Godfather</td>\n",
       "      <td>1972</td>\n",
       "      <td>6024</td>\n",
       "      <td>8.5</td>\n",
       "      <td>41.1093</td>\n",
       "      <td>[Drama, Crime]</td>\n",
       "      <td>8.415780</td>\n",
       "    </tr>\n",
       "    <tr>\n",
       "      <th>10309</th>\n",
       "      <td><img src='http://image.tmdb.org/t/p/w185//2gvbZMtV1Zsl7FedJa5ysbpBx2G.jpg' style='height:100px;'></td>\n",
       "      <td>Dilwale Dulhania Le Jayenge</td>\n",
       "      <td>1995</td>\n",
       "      <td>661</td>\n",
       "      <td>9.1</td>\n",
       "      <td>34.457</td>\n",
       "      <td>[Comedy, Drama, Romance]</td>\n",
       "      <td>8.348701</td>\n",
       "    </tr>\n",
       "    <tr>\n",
       "      <th>12481</th>\n",
       "      <td><img src='http://image.tmdb.org/t/p/w185//1hRoyzDtpgMU7Dz4JF22RANzQO7.jpg' style='height:100px;'></td>\n",
       "      <td>The Dark Knight</td>\n",
       "      <td>2008</td>\n",
       "      <td>12269</td>\n",
       "      <td>8.3</td>\n",
       "      <td>123.167</td>\n",
       "      <td>[Drama, Action, Crime, Thriller]</td>\n",
       "      <td>8.260671</td>\n",
       "    </tr>\n",
       "    <tr>\n",
       "      <th>2843</th>\n",
       "      <td><img src='http://image.tmdb.org/t/p/w185//adw6Lq9FiC9zjYEpOqfq03ituwp.jpg' style='height:100px;'></td>\n",
       "      <td>Fight Club</td>\n",
       "      <td>1999</td>\n",
       "      <td>9678</td>\n",
       "      <td>8.3</td>\n",
       "      <td>63.8696</td>\n",
       "      <td>[Drama]</td>\n",
       "      <td>8.250313</td>\n",
       "    </tr>\n",
       "    <tr>\n",
       "      <th>292</th>\n",
       "      <td><img src='http://image.tmdb.org/t/p/w185//dM2w364MScsjFf8pfMbaWUcWrR.jpg' style='height:100px;'></td>\n",
       "      <td>Pulp Fiction</td>\n",
       "      <td>1994</td>\n",
       "      <td>8670</td>\n",
       "      <td>8.3</td>\n",
       "      <td>140.95</td>\n",
       "      <td>[Thriller, Crime]</td>\n",
       "      <td>8.244641</td>\n",
       "    </tr>\n",
       "    <tr>\n",
       "      <th>522</th>\n",
       "      <td><img src='http://image.tmdb.org/t/p/w185//yPisjyLweCl1tbgwgtzBCNCBle.jpg' style='height:100px;'></td>\n",
       "      <td>Schindler's List</td>\n",
       "      <td>1993</td>\n",
       "      <td>4436</td>\n",
       "      <td>8.3</td>\n",
       "      <td>41.7251</td>\n",
       "      <td>[Drama, History, War]</td>\n",
       "      <td>8.193643</td>\n",
       "    </tr>\n",
       "    <tr>\n",
       "      <th>23673</th>\n",
       "      <td><img src='http://image.tmdb.org/t/p/w185//lIv1QinFqz4dlp5U4lQ6HaiskOZ.jpg' style='height:100px;'></td>\n",
       "      <td>Whiplash</td>\n",
       "      <td>2014</td>\n",
       "      <td>4376</td>\n",
       "      <td>8.3</td>\n",
       "      <td>64.3</td>\n",
       "      <td>[Drama]</td>\n",
       "      <td>8.192236</td>\n",
       "    </tr>\n",
       "    <tr>\n",
       "      <th>5481</th>\n",
       "      <td><img src='http://image.tmdb.org/t/p/w185//ynXoOxmDHNQ4UAy0oU6avW71HVW.jpg' style='height:100px;'></td>\n",
       "      <td>Spirited Away</td>\n",
       "      <td>2001</td>\n",
       "      <td>3968</td>\n",
       "      <td>8.3</td>\n",
       "      <td>41.0489</td>\n",
       "      <td>[Fantasy, Adventure, Animation, Family]</td>\n",
       "      <td>8.181585</td>\n",
       "    </tr>\n",
       "    <tr>\n",
       "      <th>2211</th>\n",
       "      <td><img src='http://image.tmdb.org/t/p/w185//f7DImXDebOs148U4uPjI61iDvaK.jpg' style='height:100px;'></td>\n",
       "      <td>Life Is Beautiful</td>\n",
       "      <td>1997</td>\n",
       "      <td>3643</td>\n",
       "      <td>8.3</td>\n",
       "      <td>39.395</td>\n",
       "      <td>[Comedy, Drama]</td>\n",
       "      <td>8.171466</td>\n",
       "    </tr>\n",
       "    <tr>\n",
       "      <th>1178</th>\n",
       "      <td><img src='http://image.tmdb.org/t/p/w185//bVq65huQ8vHDd1a4Z37QtuyEvpA.jpg' style='height:100px;'></td>\n",
       "      <td>The Godfather: Part II</td>\n",
       "      <td>1974</td>\n",
       "      <td>3418</td>\n",
       "      <td>8.3</td>\n",
       "      <td>36.6293</td>\n",
       "      <td>[Drama, Crime]</td>\n",
       "      <td>8.163383</td>\n",
       "    </tr>\n",
       "    <tr>\n",
       "      <th>1152</th>\n",
       "      <td><img src='http://image.tmdb.org/t/p/w185//2Sns5oMb356JNdBHgBETjIpRYy9.jpg' style='height:100px;'></td>\n",
       "      <td>One Flew Over the Cuckoo's Nest</td>\n",
       "      <td>1975</td>\n",
       "      <td>3001</td>\n",
       "      <td>8.3</td>\n",
       "      <td>35.5296</td>\n",
       "      <td>[Drama]</td>\n",
       "      <td>8.145360</td>\n",
       "    </tr>\n",
       "    <tr>\n",
       "      <th>351</th>\n",
       "      <td><img src='http://image.tmdb.org/t/p/w185//yE5d3BUhE8hCnkMUJOo1QDoOGNz.jpg' style='height:100px;'></td>\n",
       "      <td>Forrest Gump</td>\n",
       "      <td>1994</td>\n",
       "      <td>8147</td>\n",
       "      <td>8.2</td>\n",
       "      <td>48.3072</td>\n",
       "      <td>[Comedy, Drama, Romance]</td>\n",
       "      <td>8.143082</td>\n",
       "    </tr>\n",
       "    <tr>\n",
       "      <th>1154</th>\n",
       "      <td><img src='http://image.tmdb.org/t/p/w185//6u1fYtxG5eqjhtCPDx04pJphQRW.jpg' style='height:100px;'></td>\n",
       "      <td>The Empire Strikes Back</td>\n",
       "      <td>1980</td>\n",
       "      <td>5998</td>\n",
       "      <td>8.2</td>\n",
       "      <td>19.471</td>\n",
       "      <td>[Adventure, Action, Science Fiction]</td>\n",
       "      <td>8.123219</td>\n",
       "    </tr>\n",
       "    <tr>\n",
       "      <th>18465</th>\n",
       "      <td><img src='http://image.tmdb.org/t/p/w185//4mFsNQwbD0F237Tx7gAPotd0nbJ.jpg' style='height:100px;'></td>\n",
       "      <td>The Intouchables</td>\n",
       "      <td>2011</td>\n",
       "      <td>5410</td>\n",
       "      <td>8.2</td>\n",
       "      <td>16.0869</td>\n",
       "      <td>[Drama, Comedy]</td>\n",
       "      <td>8.115114</td>\n",
       "    </tr>\n",
       "  </tbody>\n",
       "</table>"
      ],
      "text/plain": [
       "<IPython.core.display.HTML object>"
      ]
     },
     "execution_count": 20,
     "metadata": {},
     "output_type": "execute_result"
    }
   ],
   "source": [
    "imdb_top_250 = qualified_df.sort_values('WR',ascending=False).head(250)\n",
    "imdb_top_250.head(20)\n",
    "HTML(imdb_top_250.head(15).to_html(escape=False))"
   ]
  },
  {
   "cell_type": "markdown",
   "metadata": {},
   "source": [
    "## 1.2 Recommendation by genre"
   ]
  },
  {
   "cell_type": "code",
   "execution_count": 21,
   "metadata": {},
   "outputs": [],
   "source": [
    "def recommendation_by_genre(genre,percentile=0.90):\n",
    "    \n",
    "    m = vote_counts.quantile(percentile)\n",
    "    \n",
    "    qualified_seg = df[(df['vote_count'] > m) & df['vote_count'].notnull() & df['vote_average'].notnull()] \n",
    "    ## This will select the movies with number of votes required, it mostly depend on 'm' as we increase\n",
    "    ## value of percentile the selected dataframes shrinks\n",
    "    \n",
    "    gen_df = pd.DataFrame(columns=qualified_seg.columns)\n",
    "    # Empty dataset to which we will append the films which belong to given genre\n",
    "    \n",
    "    \n",
    "    for i in range(0,qualified_seg.shape[0]):\n",
    "        if genre in qualified_seg.iloc[i]['genres']:\n",
    "            gen_df = pd.concat([gen_df,pd.DataFrame(qualified_seg.iloc[i:i+1])],axis=0)\n",
    "            \n",
    "    gen_df = gen_df[['poster_path','title','year','vote_count','vote_average','popularity','genres','original_language']]\n",
    "    gen_df['vote_count'] = gen_df['vote_count'].astype('int')\n",
    "    \n",
    "    gen_df['WR'] = gen_df.apply(lambda x:(x['vote_count']/(x['vote_count']+m) * x['vote_average']) \n",
    "                                + (m/(m+x['vote_count']) * C), axis=1)\n",
    "    ### It will calculate the rating according to the IMDB's Formulae\n",
    "    \n",
    "    \n",
    "    gen_df = gen_df.sort_values('WR',ascending=False).head(250)\n",
    "    ### sort the movies according to Weighted Average score(WR)\n",
    "    \n",
    "    \n",
    "    return gen_df"
   ]
  },
  {
   "cell_type": "code",
   "execution_count": 23,
   "metadata": {},
   "outputs": [
    {
     "data": {
      "text/html": [
       "<table border=\"1\" class=\"dataframe\">\n",
       "  <thead>\n",
       "    <tr style=\"text-align: right;\">\n",
       "      <th></th>\n",
       "      <th>poster_path</th>\n",
       "      <th>title</th>\n",
       "      <th>year</th>\n",
       "      <th>vote_count</th>\n",
       "      <th>vote_average</th>\n",
       "      <th>popularity</th>\n",
       "      <th>genres</th>\n",
       "      <th>original_language</th>\n",
       "      <th>WR</th>\n",
       "    </tr>\n",
       "  </thead>\n",
       "  <tbody>\n",
       "    <tr>\n",
       "      <th>15480</th>\n",
       "      <td><img src='http://image.tmdb.org/t/p/w185//qmDpIHrmpJINaRKAfWQfftjCdyi.jpg' style='height:100px;'></td>\n",
       "      <td>Inception</td>\n",
       "      <td>2010</td>\n",
       "      <td>14075</td>\n",
       "      <td>8.1</td>\n",
       "      <td>29.1081</td>\n",
       "      <td>[Action, Thriller, Science Fiction, Mystery, Adventure]</td>\n",
       "      <td>en</td>\n",
       "      <td>8.014597</td>\n",
       "    </tr>\n",
       "    <tr>\n",
       "      <th>46</th>\n",
       "      <td><img src='http://image.tmdb.org/t/p/w185//8zw8IL4zEPjkh8Aysdcd0FwGMb0.jpg' style='height:100px;'></td>\n",
       "      <td>Se7en</td>\n",
       "      <td>1995</td>\n",
       "      <td>5915</td>\n",
       "      <td>8.1</td>\n",
       "      <td>18.4574</td>\n",
       "      <td>[Crime, Mystery, Thriller]</td>\n",
       "      <td>en</td>\n",
       "      <td>7.904833</td>\n",
       "    </tr>\n",
       "    <tr>\n",
       "      <th>4099</th>\n",
       "      <td><img src='http://image.tmdb.org/t/p/w185//fQMSaP88cf1nz4qwuNEEFtazuDM.jpg' style='height:100px;'></td>\n",
       "      <td>Memento</td>\n",
       "      <td>2000</td>\n",
       "      <td>4168</td>\n",
       "      <td>8.1</td>\n",
       "      <td>15.4508</td>\n",
       "      <td>[Mystery, Thriller]</td>\n",
       "      <td>en</td>\n",
       "      <td>7.830744</td>\n",
       "    </tr>\n",
       "    <tr>\n",
       "      <th>11354</th>\n",
       "      <td><img src='http://image.tmdb.org/t/p/w185//5MXyQfz8xUP3dIFPTubhTsbFY6N.jpg' style='height:100px;'></td>\n",
       "      <td>The Prestige</td>\n",
       "      <td>2006</td>\n",
       "      <td>4510</td>\n",
       "      <td>8.0</td>\n",
       "      <td>16.9456</td>\n",
       "      <td>[Drama, Mystery, Thriller]</td>\n",
       "      <td>en</td>\n",
       "      <td>7.758148</td>\n",
       "    </tr>\n",
       "    <tr>\n",
       "      <th>23675</th>\n",
       "      <td><img src='http://image.tmdb.org/t/p/w185//gdiLTof3rbPDAmPaCf4g6op46bj.jpg' style='height:100px;'></td>\n",
       "      <td>Gone Girl</td>\n",
       "      <td>2014</td>\n",
       "      <td>6023</td>\n",
       "      <td>7.9</td>\n",
       "      <td>154.801</td>\n",
       "      <td>[Mystery, Thriller, Drama]</td>\n",
       "      <td>en</td>\n",
       "      <td>7.721540</td>\n",
       "    </tr>\n",
       "    <tr>\n",
       "      <th>14825</th>\n",
       "      <td><img src='http://image.tmdb.org/t/p/w185//aZqKsvpJDFy2UzUMsdskNFbfkOd.jpg' style='height:100px;'></td>\n",
       "      <td>Shutter Island</td>\n",
       "      <td>2010</td>\n",
       "      <td>6559</td>\n",
       "      <td>7.8</td>\n",
       "      <td>15.8136</td>\n",
       "      <td>[Drama, Thriller, Mystery]</td>\n",
       "      <td>en</td>\n",
       "      <td>7.641425</td>\n",
       "    </tr>\n",
       "    <tr>\n",
       "      <th>897</th>\n",
       "      <td><img src='http://image.tmdb.org/t/p/w185//90T7b2LIrL07ndYQBmSm09yqVEH.jpg' style='height:100px;'></td>\n",
       "      <td>2001: A Space Odyssey</td>\n",
       "      <td>1968</td>\n",
       "      <td>3075</td>\n",
       "      <td>7.9</td>\n",
       "      <td>22.4946</td>\n",
       "      <td>[Science Fiction, Mystery, Adventure]</td>\n",
       "      <td>en</td>\n",
       "      <td>7.571612</td>\n",
       "    </tr>\n",
       "    <tr>\n",
       "      <th>877</th>\n",
       "      <td><img src='http://image.tmdb.org/t/p/w185//oXbT7vlLmZ76kWoHe5XJYuyJUgp.jpg' style='height:100px;'></td>\n",
       "      <td>Rear Window</td>\n",
       "      <td>1954</td>\n",
       "      <td>1531</td>\n",
       "      <td>8.2</td>\n",
       "      <td>17.9113</td>\n",
       "      <td>[Drama, Mystery, Thriller]</td>\n",
       "      <td>en</td>\n",
       "      <td>7.547321</td>\n",
       "    </tr>\n",
       "    <tr>\n",
       "      <th>9430</th>\n",
       "      <td><img src='http://image.tmdb.org/t/p/w185//rIZX6X0MIHYEebk6W4LABT9VP2c.jpg' style='height:100px;'></td>\n",
       "      <td>Oldboy</td>\n",
       "      <td>2003</td>\n",
       "      <td>2000</td>\n",
       "      <td>8.0</td>\n",
       "      <td>10.6169</td>\n",
       "      <td>[Drama, Thriller, Mystery, Action]</td>\n",
       "      <td>ko</td>\n",
       "      <td>7.508745</td>\n",
       "    </tr>\n",
       "    <tr>\n",
       "      <th>4748</th>\n",
       "      <td><img src='http://image.tmdb.org/t/p/w185//nmb4QhCRmdfNP6rgb81yUFgI83l.jpg' style='height:100px;'></td>\n",
       "      <td>Donnie Darko</td>\n",
       "      <td>2001</td>\n",
       "      <td>3574</td>\n",
       "      <td>7.7</td>\n",
       "      <td>18.3031</td>\n",
       "      <td>[Fantasy, Drama, Mystery]</td>\n",
       "      <td>en</td>\n",
       "      <td>7.434153</td>\n",
       "    </tr>\n",
       "  </tbody>\n",
       "</table>"
      ],
      "text/plain": [
       "<IPython.core.display.HTML object>"
      ]
     },
     "execution_count": 23,
     "metadata": {},
     "output_type": "execute_result"
    }
   ],
   "source": [
    "recommendation_by_genre('Mystery',percentile=0.95)   \n",
    "HTML(recommendation_by_genre('Mystery',percentile=0.95).head(10).to_html(escape=False)   )"
   ]
  },
  {
   "cell_type": "markdown",
   "metadata": {},
   "source": [
    "#### As we move Percentile value, the movies to qualify for recomendation get selected or dropped, Higher the percentile, higher number of votes required to qualify"
   ]
  },
  {
   "cell_type": "code",
   "execution_count": 24,
   "metadata": {},
   "outputs": [
    {
     "data": {
      "text/html": [
       "<table border=\"1\" class=\"dataframe\">\n",
       "  <thead>\n",
       "    <tr style=\"text-align: right;\">\n",
       "      <th></th>\n",
       "      <th>poster_path</th>\n",
       "      <th>title</th>\n",
       "      <th>year</th>\n",
       "      <th>vote_count</th>\n",
       "      <th>vote_average</th>\n",
       "      <th>popularity</th>\n",
       "      <th>genres</th>\n",
       "      <th>original_language</th>\n",
       "      <th>WR</th>\n",
       "    </tr>\n",
       "  </thead>\n",
       "  <tbody>\n",
       "    <tr>\n",
       "      <th>351</th>\n",
       "      <td><img src='http://image.tmdb.org/t/p/w185//yE5d3BUhE8hCnkMUJOo1QDoOGNz.jpg' style='height:100px;'></td>\n",
       "      <td>Forrest Gump</td>\n",
       "      <td>1994</td>\n",
       "      <td>8147</td>\n",
       "      <td>8.2</td>\n",
       "      <td>48.3072</td>\n",
       "      <td>[Comedy, Drama, Romance]</td>\n",
       "      <td>en</td>\n",
       "      <td>7.323352</td>\n",
       "    </tr>\n",
       "    <tr>\n",
       "      <th>1639</th>\n",
       "      <td><img src='http://image.tmdb.org/t/p/w185//kHXEpyfl6zqn8a6YuozZUujufXf.jpg' style='height:100px;'></td>\n",
       "      <td>Titanic</td>\n",
       "      <td>1997</td>\n",
       "      <td>7770</td>\n",
       "      <td>7.5</td>\n",
       "      <td>26.8891</td>\n",
       "      <td>[Drama, Romance, Thriller]</td>\n",
       "      <td>en</td>\n",
       "      <td>6.808505</td>\n",
       "    </tr>\n",
       "    <tr>\n",
       "      <th>40882</th>\n",
       "      <td><img src='http://image.tmdb.org/t/p/w185//ylXCdC106IKiarftHkcacasaAcb.jpg' style='height:100px;'></td>\n",
       "      <td>La La Land</td>\n",
       "      <td>2016</td>\n",
       "      <td>4745</td>\n",
       "      <td>7.9</td>\n",
       "      <td>19.681686</td>\n",
       "      <td>[Comedy, Drama, Music, Romance]</td>\n",
       "      <td>en</td>\n",
       "      <td>6.784820</td>\n",
       "    </tr>\n",
       "    <tr>\n",
       "      <th>22168</th>\n",
       "      <td><img src='http://image.tmdb.org/t/p/w185//fsoTLnUXEUTNuVCBxAJMY0HPPd.jpg' style='height:100px;'></td>\n",
       "      <td>Her</td>\n",
       "      <td>2013</td>\n",
       "      <td>4215</td>\n",
       "      <td>7.9</td>\n",
       "      <td>13.8295</td>\n",
       "      <td>[Romance, Science Fiction, Drama]</td>\n",
       "      <td>en</td>\n",
       "      <td>6.707571</td>\n",
       "    </tr>\n",
       "    <tr>\n",
       "      <th>7208</th>\n",
       "      <td><img src='http://image.tmdb.org/t/p/w185//7y3eYvTsGjxPYDtSnumCLIMDkrV.jpg' style='height:100px;'></td>\n",
       "      <td>Eternal Sunshine of the Spotless Mind</td>\n",
       "      <td>2004</td>\n",
       "      <td>3758</td>\n",
       "      <td>7.9</td>\n",
       "      <td>12.9063</td>\n",
       "      <td>[Science Fiction, Drama, Romance]</td>\n",
       "      <td>en</td>\n",
       "      <td>6.631825</td>\n",
       "    </tr>\n",
       "    <tr>\n",
       "      <th>23512</th>\n",
       "      <td><img src='http://image.tmdb.org/t/p/w185//sc6XLX6J714LDkVV3Ys3clgypQS.jpg' style='height:100px;'></td>\n",
       "      <td>The Fault in Our Stars</td>\n",
       "      <td>2014</td>\n",
       "      <td>3868</td>\n",
       "      <td>7.6</td>\n",
       "      <td>16.2747</td>\n",
       "      <td>[Romance, Drama]</td>\n",
       "      <td>en</td>\n",
       "      <td>6.492056</td>\n",
       "    </tr>\n",
       "    <tr>\n",
       "      <th>2178</th>\n",
       "      <td><img src='http://image.tmdb.org/t/p/w185//kgLTB53HinftRRwhft7yrUOclDC.jpg' style='height:100px;'></td>\n",
       "      <td>Edward Scissorhands</td>\n",
       "      <td>1990</td>\n",
       "      <td>3731</td>\n",
       "      <td>7.5</td>\n",
       "      <td>17.6122</td>\n",
       "      <td>[Fantasy, Drama, Romance]</td>\n",
       "      <td>en</td>\n",
       "      <td>6.418822</td>\n",
       "    </tr>\n",
       "    <tr>\n",
       "      <th>20910</th>\n",
       "      <td><img src='http://image.tmdb.org/t/p/w185//oJpOYPpVWyPeunGbbDGH1KFvea0.jpg' style='height:100px;'></td>\n",
       "      <td>The Great Gatsby</td>\n",
       "      <td>2013</td>\n",
       "      <td>3885</td>\n",
       "      <td>7.3</td>\n",
       "      <td>17.5989</td>\n",
       "      <td>[Drama, Romance]</td>\n",
       "      <td>en</td>\n",
       "      <td>6.335434</td>\n",
       "    </tr>\n",
       "    <tr>\n",
       "      <th>581</th>\n",
       "      <td><img src='http://image.tmdb.org/t/p/w185//7f53XAE4nPiGe9XprpGAeWHuKPw.jpg' style='height:100px;'></td>\n",
       "      <td>Aladdin</td>\n",
       "      <td>1992</td>\n",
       "      <td>3495</td>\n",
       "      <td>7.4</td>\n",
       "      <td>16.3574</td>\n",
       "      <td>[Animation, Family, Comedy, Adventure, Fantasy, Romance]</td>\n",
       "      <td>en</td>\n",
       "      <td>6.331585</td>\n",
       "    </tr>\n",
       "    <tr>\n",
       "      <th>19731</th>\n",
       "      <td><img src='http://image.tmdb.org/t/p/w185//ilrZAV2klTB0FLxLb01bOp5pzD9.jpg' style='height:100px;'></td>\n",
       "      <td>Silver Linings Playbook</td>\n",
       "      <td>2012</td>\n",
       "      <td>4840</td>\n",
       "      <td>7.0</td>\n",
       "      <td>14.4881</td>\n",
       "      <td>[Drama, Comedy, Romance]</td>\n",
       "      <td>en</td>\n",
       "      <td>6.271294</td>\n",
       "    </tr>\n",
       "  </tbody>\n",
       "</table>"
      ],
      "text/plain": [
       "<IPython.core.display.HTML object>"
      ]
     },
     "execution_count": 24,
     "metadata": {},
     "output_type": "execute_result"
    }
   ],
   "source": [
    "recommendation_by_genre('Romance',percentile=0.995)\n",
    "HTML(recommendation_by_genre('Romance',percentile=0.995).head(10).to_html(escape=False))"
   ]
  },
  {
   "cell_type": "markdown",
   "metadata": {},
   "source": [
    "#### Well these are quite good romantic movies, but Before Sunset is still my favourite Romantic movie, whatever this list says"
   ]
  },
  {
   "cell_type": "markdown",
   "metadata": {},
   "source": [
    "### The above recommender is not personalised and it will only generate recommendation by genre, irrespective of persons own interest"
   ]
  },
  {
   "cell_type": "markdown",
   "metadata": {},
   "source": [
    "# 2. Content Based Recommender"
   ]
  },
  {
   "cell_type": "markdown",
   "metadata": {},
   "source": [
    "To personalise our recommendations more, I am going to build an engine that computes similarity between movies based on certain metrics and suggests movies that are most similar to a particular movie that a user liked. Since we will be using movie metadata (or content) to build this engine, this also known as Content Based Filtering."
   ]
  },
  {
   "cell_type": "markdown",
   "metadata": {},
   "source": [
    "Even though content based recommender is still not personalised recommender, we gonna use it letter for hybrid recommender "
   ]
  },
  {
   "cell_type": "markdown",
   "metadata": {},
   "source": [
    "I will build 2 content based Recommender based on:\n",
    "\n",
    "1.Movie Overview and tagline\n",
    "\n",
    "2.Movie cast,director, genre,keywords"
   ]
  },
  {
   "cell_type": "markdown",
   "metadata": {},
   "source": [
    "For upcoming recommenders, we gonna need sparse matrix formed using Cosine similarities/linear similarities, so for computation conveninece we will subset of dataset"
   ]
  },
  {
   "cell_type": "code",
   "execution_count": 26,
   "metadata": {},
   "outputs": [
    {
     "data": {
      "text/plain": [
       "(9099, 23)"
      ]
     },
     "execution_count": 26,
     "metadata": {},
     "output_type": "execute_result"
    }
   ],
   "source": [
    "links_small = pd.read_csv('links_small.csv')\n",
    "links_small = links_small[links_small['tmdbId'].notnull()]['tmdbId'].astype('int')\n",
    "df =df.drop([19730, 29503, 35587])    # These movies release date is wrongly added as id, so it is wise to remove them\n",
    "df['id'] = df['id'].astype('int')\n",
    "smd = df[df['id'].isin(links_small)]\n",
    "smd.shape"
   ]
  },
  {
   "cell_type": "markdown",
   "metadata": {},
   "source": [
    "So we will work with 9099 movies"
   ]
  },
  {
   "cell_type": "markdown",
   "metadata": {},
   "source": [
    "## 2.1 Movie description based recommender \n",
    "#### Based on overview and tagline"
   ]
  },
  {
   "cell_type": "code",
   "execution_count": 27,
   "metadata": {},
   "outputs": [
    {
     "name": "stderr",
     "output_type": "stream",
     "text": [
      "/Users/suyashchavan/anaconda3/lib/python3.7/site-packages/ipykernel_launcher.py:1: SettingWithCopyWarning: \n",
      "A value is trying to be set on a copy of a slice from a DataFrame.\n",
      "Try using .loc[row_indexer,col_indexer] = value instead\n",
      "\n",
      "See the caveats in the documentation: http://pandas.pydata.org/pandas-docs/stable/indexing.html#indexing-view-versus-copy\n",
      "  \"\"\"Entry point for launching an IPython kernel.\n",
      "/Users/suyashchavan/anaconda3/lib/python3.7/site-packages/ipykernel_launcher.py:2: SettingWithCopyWarning: \n",
      "A value is trying to be set on a copy of a slice from a DataFrame.\n",
      "Try using .loc[row_indexer,col_indexer] = value instead\n",
      "\n",
      "See the caveats in the documentation: http://pandas.pydata.org/pandas-docs/stable/indexing.html#indexing-view-versus-copy\n",
      "  \n",
      "/Users/suyashchavan/anaconda3/lib/python3.7/site-packages/ipykernel_launcher.py:3: SettingWithCopyWarning: \n",
      "A value is trying to be set on a copy of a slice from a DataFrame.\n",
      "Try using .loc[row_indexer,col_indexer] = value instead\n",
      "\n",
      "See the caveats in the documentation: http://pandas.pydata.org/pandas-docs/stable/indexing.html#indexing-view-versus-copy\n",
      "  This is separate from the ipykernel package so we can avoid doing imports until\n",
      "/Users/suyashchavan/anaconda3/lib/python3.7/site-packages/ipykernel_launcher.py:4: SettingWithCopyWarning: \n",
      "A value is trying to be set on a copy of a slice from a DataFrame.\n",
      "Try using .loc[row_indexer,col_indexer] = value instead\n",
      "\n",
      "See the caveats in the documentation: http://pandas.pydata.org/pandas-docs/stable/indexing.html#indexing-view-versus-copy\n",
      "  after removing the cwd from sys.path.\n"
     ]
    },
    {
     "data": {
      "text/html": [
       "<div>\n",
       "<style scoped>\n",
       "    .dataframe tbody tr th:only-of-type {\n",
       "        vertical-align: middle;\n",
       "    }\n",
       "\n",
       "    .dataframe tbody tr th {\n",
       "        vertical-align: top;\n",
       "    }\n",
       "\n",
       "    .dataframe thead th {\n",
       "        text-align: right;\n",
       "    }\n",
       "</style>\n",
       "<table border=\"1\" class=\"dataframe\">\n",
       "  <thead>\n",
       "    <tr style=\"text-align: right;\">\n",
       "      <th></th>\n",
       "      <th>adult</th>\n",
       "      <th>belongs_to_collection</th>\n",
       "      <th>budget</th>\n",
       "      <th>genres</th>\n",
       "      <th>id</th>\n",
       "      <th>imdb_id</th>\n",
       "      <th>original_language</th>\n",
       "      <th>original_title</th>\n",
       "      <th>overview</th>\n",
       "      <th>popularity</th>\n",
       "      <th>...</th>\n",
       "      <th>revenue</th>\n",
       "      <th>runtime</th>\n",
       "      <th>spoken_languages</th>\n",
       "      <th>status</th>\n",
       "      <th>tagline</th>\n",
       "      <th>title</th>\n",
       "      <th>vote_average</th>\n",
       "      <th>vote_count</th>\n",
       "      <th>year</th>\n",
       "      <th>description</th>\n",
       "    </tr>\n",
       "  </thead>\n",
       "  <tbody>\n",
       "    <tr>\n",
       "      <th>0</th>\n",
       "      <td>False</td>\n",
       "      <td>{'id': 10194, 'name': 'Toy Story Collection', 'poster_path': '/7G9915LfUQ2lVfwMEEhDsn3kT4B.jpg',...</td>\n",
       "      <td>30000000</td>\n",
       "      <td>[Animation, Comedy, Family]</td>\n",
       "      <td>862</td>\n",
       "      <td>tt0114709</td>\n",
       "      <td>en</td>\n",
       "      <td>Toy Story</td>\n",
       "      <td>Led by Woody, Andy's toys live happily in his room until Andy's birthday brings Buzz Lightyear o...</td>\n",
       "      <td>21.9469</td>\n",
       "      <td>...</td>\n",
       "      <td>373554033.0</td>\n",
       "      <td>81.0</td>\n",
       "      <td>[{'iso_639_1': 'en', 'name': 'English'}]</td>\n",
       "      <td>Released</td>\n",
       "      <td></td>\n",
       "      <td>Toy Story</td>\n",
       "      <td>7.7</td>\n",
       "      <td>5415.0</td>\n",
       "      <td>1995</td>\n",
       "      <td>Led by Woody, Andy's toys live happily in his room until Andy's birthday brings Buzz Lightyear o...</td>\n",
       "    </tr>\n",
       "    <tr>\n",
       "      <th>1</th>\n",
       "      <td>False</td>\n",
       "      <td>NaN</td>\n",
       "      <td>65000000</td>\n",
       "      <td>[Adventure, Fantasy, Family]</td>\n",
       "      <td>8844</td>\n",
       "      <td>tt0113497</td>\n",
       "      <td>en</td>\n",
       "      <td>Jumanji</td>\n",
       "      <td>When siblings Judy and Peter discover an enchanted board game that opens the door to a magical w...</td>\n",
       "      <td>17.0155</td>\n",
       "      <td>...</td>\n",
       "      <td>262797249.0</td>\n",
       "      <td>104.0</td>\n",
       "      <td>[{'iso_639_1': 'en', 'name': 'English'}, {'iso_639_1': 'fr', 'name': 'Français'}]</td>\n",
       "      <td>Released</td>\n",
       "      <td>Roll the dice and unleash the excitement!</td>\n",
       "      <td>Jumanji</td>\n",
       "      <td>6.9</td>\n",
       "      <td>2413.0</td>\n",
       "      <td>1995</td>\n",
       "      <td>When siblings Judy and Peter discover an enchanted board game that opens the door to a magical w...</td>\n",
       "    </tr>\n",
       "  </tbody>\n",
       "</table>\n",
       "<p>2 rows × 24 columns</p>\n",
       "</div>"
      ],
      "text/plain": [
       "   adult  \\\n",
       "0  False   \n",
       "1  False   \n",
       "\n",
       "                                                                                 belongs_to_collection  \\\n",
       "0  {'id': 10194, 'name': 'Toy Story Collection', 'poster_path': '/7G9915LfUQ2lVfwMEEhDsn3kT4B.jpg',...   \n",
       "1                                                                                                  NaN   \n",
       "\n",
       "     budget                        genres    id    imdb_id original_language  \\\n",
       "0  30000000   [Animation, Comedy, Family]   862  tt0114709                en   \n",
       "1  65000000  [Adventure, Fantasy, Family]  8844  tt0113497                en   \n",
       "\n",
       "  original_title  \\\n",
       "0      Toy Story   \n",
       "1        Jumanji   \n",
       "\n",
       "                                                                                              overview  \\\n",
       "0  Led by Woody, Andy's toys live happily in his room until Andy's birthday brings Buzz Lightyear o...   \n",
       "1  When siblings Judy and Peter discover an enchanted board game that opens the door to a magical w...   \n",
       "\n",
       "  popularity  \\\n",
       "0    21.9469   \n",
       "1    17.0155   \n",
       "\n",
       "                                                  ...                                                   \\\n",
       "0                                                 ...                                                    \n",
       "1                                                 ...                                                    \n",
       "\n",
       "       revenue runtime  \\\n",
       "0  373554033.0    81.0   \n",
       "1  262797249.0   104.0   \n",
       "\n",
       "                                                                    spoken_languages  \\\n",
       "0                                           [{'iso_639_1': 'en', 'name': 'English'}]   \n",
       "1  [{'iso_639_1': 'en', 'name': 'English'}, {'iso_639_1': 'fr', 'name': 'Français'}]   \n",
       "\n",
       "     status                                    tagline      title  \\\n",
       "0  Released                                             Toy Story   \n",
       "1  Released  Roll the dice and unleash the excitement!    Jumanji   \n",
       "\n",
       "  vote_average vote_count  year  \\\n",
       "0          7.7     5415.0  1995   \n",
       "1          6.9     2413.0  1995   \n",
       "\n",
       "                                                                                           description  \n",
       "0  Led by Woody, Andy's toys live happily in his room until Andy's birthday brings Buzz Lightyear o...  \n",
       "1  When siblings Judy and Peter discover an enchanted board game that opens the door to a magical w...  \n",
       "\n",
       "[2 rows x 24 columns]"
      ]
     },
     "execution_count": 27,
     "metadata": {},
     "output_type": "execute_result"
    }
   ],
   "source": [
    "smd['tagline'] = smd['tagline'].fillna('')\n",
    "smd['overview'] = smd['overview'].fillna('')\n",
    "smd['description']  = smd['overview'] + smd['tagline']\n",
    "smd['description'] = smd['description'].fillna('')\n",
    "smd.head(2)"
   ]
  },
  {
   "cell_type": "code",
   "execution_count": 28,
   "metadata": {},
   "outputs": [],
   "source": [
    "tf = TfidfVectorizer(analyzer='word',ngram_range=(1,2),min_df=0.0001,stop_words=['english','french'])\n",
    "tfmatrix = tf.fit_transform(smd['description'])"
   ]
  },
  {
   "cell_type": "code",
   "execution_count": 29,
   "metadata": {},
   "outputs": [
    {
     "data": {
      "text/plain": [
       "(9099, 285340)"
      ]
     },
     "execution_count": 29,
     "metadata": {},
     "output_type": "execute_result"
    }
   ],
   "source": [
    "tfmatrix.shape"
   ]
  },
  {
   "cell_type": "markdown",
   "metadata": {},
   "source": [
    "### Cosine Similarity"
   ]
  },
  {
   "cell_type": "markdown",
   "metadata": {},
   "source": [
    "We Will use cosine similarity to calculate numeric quantity that denote similarity between 2 movies.\n",
    "More info about cosine similarities . https://scikit-learn.org/stable/modules/metrics.html"
   ]
  },
  {
   "cell_type": "code",
   "execution_count": 31,
   "metadata": {},
   "outputs": [
    {
     "data": {
      "text/plain": [
       "(9099, 9099)"
      ]
     },
     "execution_count": 31,
     "metadata": {},
     "output_type": "execute_result"
    }
   ],
   "source": [
    "cosine_sim = cosine_similarity(tfmatrix,tfmatrix)\n",
    "cosine_sim.shape"
   ]
  },
  {
   "cell_type": "code",
   "execution_count": 32,
   "metadata": {},
   "outputs": [],
   "source": [
    "smd = smd.reset_index()\n",
    "titles = smd['title']\n",
    "indices = pd.Series(smd.index,index=smd['title'])"
   ]
  },
  {
   "cell_type": "code",
   "execution_count": 33,
   "metadata": {},
   "outputs": [
    {
     "data": {
      "text/plain": [
       "0                      Toy Story\n",
       "1                        Jumanji\n",
       "2               Grumpier Old Men\n",
       "3              Waiting to Exhale\n",
       "4    Father of the Bride Part II\n",
       "Name: title, dtype: object"
      ]
     },
     "execution_count": 33,
     "metadata": {},
     "output_type": "execute_result"
    }
   ],
   "source": [
    "titles.head()"
   ]
  },
  {
   "cell_type": "code",
   "execution_count": 34,
   "metadata": {},
   "outputs": [
    {
     "data": {
      "text/plain": [
       "title\n",
       "Toy Story                      0\n",
       "Jumanji                        1\n",
       "Grumpier Old Men               2\n",
       "Waiting to Exhale              3\n",
       "Father of the Bride Part II    4\n",
       "dtype: int64"
      ]
     },
     "execution_count": 34,
     "metadata": {},
     "output_type": "execute_result"
    }
   ],
   "source": [
    "indices.head()"
   ]
  },
  {
   "cell_type": "code",
   "execution_count": 39,
   "metadata": {},
   "outputs": [],
   "source": [
    "def get_recommendation(title):\n",
    "    idx = indices[title]\n",
    "    sim_scores = list(enumerate(cosine_sim[idx]))\n",
    "    sim_scores = sorted(sim_scores, key= lambda x:x[1], reverse=True)\n",
    "    sim_scores = sim_scores[1:11]\n",
    "    movies_indices = [i[0] for i in sim_scores]\n",
    "    \n",
    "    return smd.iloc[movies_indices][['poster_path','title','year','description']]"
   ]
  },
  {
   "cell_type": "code",
   "execution_count": 41,
   "metadata": {},
   "outputs": [
    {
     "data": {
      "text/html": [
       "<table border=\"1\" class=\"dataframe\">\n",
       "  <thead>\n",
       "    <tr style=\"text-align: right;\">\n",
       "      <th></th>\n",
       "      <th>poster_path</th>\n",
       "      <th>title</th>\n",
       "      <th>year</th>\n",
       "      <th>description</th>\n",
       "    </tr>\n",
       "  </thead>\n",
       "  <tbody>\n",
       "    <tr>\n",
       "      <th>7931</th>\n",
       "      <td><img src='http://image.tmdb.org/t/p/w185//dEYnvnUfXrqvqeRSqvIEtmzhoA8.jpg' style='height:100px;'></td>\n",
       "      <td>The Dark Knight Rises</td>\n",
       "      <td>2012</td>\n",
       "      <td>Following the death of District Attorney Harvey Dent, Batman assumes responsibility for Dent's c...</td>\n",
       "    </tr>\n",
       "    <tr>\n",
       "      <th>524</th>\n",
       "      <td><img src='http://image.tmdb.org/t/p/w185//kBf3g9crrADGMc2AMAMlLBgSm2h.jpg' style='height:100px;'></td>\n",
       "      <td>Batman</td>\n",
       "      <td>1989</td>\n",
       "      <td>The Dark Knight of Gotham City begins his war on crime with his first major enemy being the clow...</td>\n",
       "    </tr>\n",
       "    <tr>\n",
       "      <th>132</th>\n",
       "      <td><img src='http://image.tmdb.org/t/p/w185//eTMrHEhlFPHNxpqGwpGGTdAa0xV.jpg' style='height:100px;'></td>\n",
       "      <td>Batman Forever</td>\n",
       "      <td>1995</td>\n",
       "      <td>The Dark Knight of Gotham City confronts a dastardly duo: Two-Face and the Riddler. Formerly Dis...</td>\n",
       "    </tr>\n",
       "    <tr>\n",
       "      <th>1113</th>\n",
       "      <td><img src='http://image.tmdb.org/t/p/w185//jX5THE1yW3zTdeD9dupcIyQvKiG.jpg' style='height:100px;'></td>\n",
       "      <td>Batman Returns</td>\n",
       "      <td>1992</td>\n",
       "      <td>Having defeated the Joker, Batman now faces the Penguin - a warped and deformed individual who i...</td>\n",
       "    </tr>\n",
       "    <tr>\n",
       "      <th>8227</th>\n",
       "      <td><img src='http://image.tmdb.org/t/p/w185//wPeorCnD9MRR2S9Dzh4OpIgNLiv.jpg' style='height:100px;'></td>\n",
       "      <td>Batman: The Dark Knight Returns, Part 2</td>\n",
       "      <td>2013</td>\n",
       "      <td>Batman has stopped the reign of terror that The Mutants had cast upon his city.  Now an old foe ...</td>\n",
       "    </tr>\n",
       "    <tr>\n",
       "      <th>7565</th>\n",
       "      <td><img src='http://image.tmdb.org/t/p/w185//78kjgspmLLOm2Glgpzqo9cS4GpI.jpg' style='height:100px;'></td>\n",
       "      <td>Batman: Under the Red Hood</td>\n",
       "      <td>2010</td>\n",
       "      <td>Batman faces his ultimate challenge as the mysterious Red Hood takes Gotham City by firestorm. O...</td>\n",
       "    </tr>\n",
       "    <tr>\n",
       "      <th>7901</th>\n",
       "      <td><img src='http://image.tmdb.org/t/p/w185//bI1YVuhBN6Vws1GP9Mf01DyhC2s.jpg' style='height:100px;'></td>\n",
       "      <td>Batman: Year One</td>\n",
       "      <td>2011</td>\n",
       "      <td>Two men come to Gotham City: Bruce Wayne after years abroad feeding his lifelong obsession for j...</td>\n",
       "    </tr>\n",
       "    <tr>\n",
       "      <th>2579</th>\n",
       "      <td><img src='http://image.tmdb.org/t/p/w185//l4jaQjkgznu2Rz05X18f24UjPNW.jpg' style='height:100px;'></td>\n",
       "      <td>Batman: Mask of the Phantasm</td>\n",
       "      <td>1993</td>\n",
       "      <td>An old flame of Bruce Wayne's strolls into town, re-heating up the romance between the two. At t...</td>\n",
       "    </tr>\n",
       "    <tr>\n",
       "      <th>6148</th>\n",
       "      <td><img src='http://image.tmdb.org/t/p/w185//1VYvkSiyJg9Za2R5KSHjUygLKEq.jpg' style='height:100px;'></td>\n",
       "      <td>Land of the Dead</td>\n",
       "      <td>2005</td>\n",
       "      <td>The world is full of zombies and the survivors have barricaded themselves inside a walled city t...</td>\n",
       "    </tr>\n",
       "    <tr>\n",
       "      <th>5511</th>\n",
       "      <td><img src='http://image.tmdb.org/t/p/w185//r7MNAYQFSIJT7LjQxq27U1IHOoS.jpg' style='height:100px;'></td>\n",
       "      <td>To End All Wars</td>\n",
       "      <td>2001</td>\n",
       "      <td>Based on a real-life story, this drama focuses on a small group of Allied soldiers in Burma who ...</td>\n",
       "    </tr>\n",
       "  </tbody>\n",
       "</table>"
      ],
      "text/plain": [
       "<IPython.core.display.HTML object>"
      ]
     },
     "execution_count": 41,
     "metadata": {},
     "output_type": "execute_result"
    }
   ],
   "source": [
    "get_recommendation('The Dark Knight')\n",
    "HTML(get_recommendation('The Dark Knight').to_html(escape=False))"
   ]
  },
  {
   "cell_type": "markdown",
   "metadata": {},
   "source": [
    "As we can see the recommeder is recommending the movie whose plotline is similar to 'The Dark Knight', which is no surprise that it is showing most of the batman movies"
   ]
  },
  {
   "cell_type": "code",
   "execution_count": 43,
   "metadata": {},
   "outputs": [
    {
     "data": {
      "text/html": [
       "<table border=\"1\" class=\"dataframe\">\n",
       "  <thead>\n",
       "    <tr style=\"text-align: right;\">\n",
       "      <th></th>\n",
       "      <th>poster_path</th>\n",
       "      <th>title</th>\n",
       "      <th>year</th>\n",
       "      <th>description</th>\n",
       "    </tr>\n",
       "  </thead>\n",
       "  <tbody>\n",
       "    <tr>\n",
       "      <th>8218</th>\n",
       "      <td><img src='http://image.tmdb.org/t/p/w185//cUGDhmQWZVQstkEQrDFEePVnE21.jpg' style='height:100px;'></td>\n",
       "      <td>Judas Kiss</td>\n",
       "      <td>2011</td>\n",
       "      <td>A quirk in time and space gives a failed filmmaker the chance to reshape his destiny when he vis...</td>\n",
       "    </tr>\n",
       "    <tr>\n",
       "      <th>7530</th>\n",
       "      <td><img src='http://image.tmdb.org/t/p/w185//kUBSfYpsE1RLdl2WZL2YMJfNOEm.jpg' style='height:100px;'></td>\n",
       "      <td>Letters to Juliet</td>\n",
       "      <td>2010</td>\n",
       "      <td>An American girl on vacation in Italy finds an unanswered \"letter to Juliet\" -- one of thousands...</td>\n",
       "    </tr>\n",
       "    <tr>\n",
       "      <th>3220</th>\n",
       "      <td><img src='http://image.tmdb.org/t/p/w185//vLcEDKUbqFmyJzAsPFaxjad19mM.jpg' style='height:100px;'></td>\n",
       "      <td>The Family Man</td>\n",
       "      <td>2000</td>\n",
       "      <td>Jack's lavish, fast-paced lifestyle changes one Christmas night when he stumbles into a grocery ...</td>\n",
       "    </tr>\n",
       "    <tr>\n",
       "      <th>3764</th>\n",
       "      <td><img src='http://image.tmdb.org/t/p/w185//2fNiavOBFAcaacnOUKzTgxLTPZP.jpg' style='height:100px;'></td>\n",
       "      <td>Serendipity</td>\n",
       "      <td>2001</td>\n",
       "      <td>Although strangers Sara and Jonathan are both already in relationships, they realize they have g...</td>\n",
       "    </tr>\n",
       "    <tr>\n",
       "      <th>8255</th>\n",
       "      <td><img src='http://image.tmdb.org/t/p/w185//uDdobcCBfPObD2pqDSTjXxELt3c.jpg' style='height:100px;'></td>\n",
       "      <td>Before Midnight</td>\n",
       "      <td>2013</td>\n",
       "      <td>We meet Jesse and Celine nine years on in Greece. Almost two decades have passed since their fir...</td>\n",
       "    </tr>\n",
       "    <tr>\n",
       "      <th>3187</th>\n",
       "      <td><img src='http://image.tmdb.org/t/p/w185//9xu1oqDd0tZfHkZkrbH0uG65njA.jpg' style='height:100px;'></td>\n",
       "      <td>Bounce</td>\n",
       "      <td>2000</td>\n",
       "      <td>A man switches plane tickets with another man who dies in that plane in a crash. The man falls i...</td>\n",
       "    </tr>\n",
       "    <tr>\n",
       "      <th>8577</th>\n",
       "      <td><img src='http://image.tmdb.org/t/p/w185//gNlV5FhDZ1PjxSv2aqTPS30GEon.jpg' style='height:100px;'></td>\n",
       "      <td>22 Jump Street</td>\n",
       "      <td>2014</td>\n",
       "      <td>After making their way through high school (twice), big changes are in store for officers Schmid...</td>\n",
       "    </tr>\n",
       "    <tr>\n",
       "      <th>6089</th>\n",
       "      <td><img src='http://image.tmdb.org/t/p/w185//7G9WnW9Cl8VF8NoZjjgDgJpu0EP.jpg' style='height:100px;'></td>\n",
       "      <td>Look at Me</td>\n",
       "      <td>2004</td>\n",
       "      <td>This is the story of human beings who know exactly what they'd do if they were somebody else, bu...</td>\n",
       "    </tr>\n",
       "    <tr>\n",
       "      <th>2824</th>\n",
       "      <td><img src='http://image.tmdb.org/t/p/w185//qp8p8eXC67vfNxfuqrrYbuCOkbQ.jpg' style='height:100px;'></td>\n",
       "      <td>Passion of Mind</td>\n",
       "      <td>2000</td>\n",
       "      <td>When Marie, a widow in Provence with two daughters, locks her bedroom door and goes to sleep, sh...</td>\n",
       "    </tr>\n",
       "    <tr>\n",
       "      <th>6876</th>\n",
       "      <td><img src='http://image.tmdb.org/t/p/w185//26U9CeCwH63P0n4jrYnhxnlfKWs.jpg' style='height:100px;'></td>\n",
       "      <td>Definitely, Maybe</td>\n",
       "      <td>2008</td>\n",
       "      <td>When Will decides to tell his daughter the story of how he met her mother, he discovers that a s...</td>\n",
       "    </tr>\n",
       "  </tbody>\n",
       "</table>"
      ],
      "text/plain": [
       "<IPython.core.display.HTML object>"
      ]
     },
     "execution_count": 43,
     "metadata": {},
     "output_type": "execute_result"
    }
   ],
   "source": [
    "get_recommendation('Before Sunset')\n",
    "HTML(get_recommendation('Before Sunset').to_html(escape=False))"
   ]
  },
  {
   "cell_type": "code",
   "execution_count": 47,
   "metadata": {},
   "outputs": [
    {
     "data": {
      "text/html": [
       "<table border=\"1\" class=\"dataframe\">\n",
       "  <thead>\n",
       "    <tr style=\"text-align: right;\">\n",
       "      <th></th>\n",
       "      <th>poster_path</th>\n",
       "      <th>title</th>\n",
       "      <th>year</th>\n",
       "      <th>description</th>\n",
       "    </tr>\n",
       "  </thead>\n",
       "  <tbody>\n",
       "    <tr>\n",
       "      <th>2059</th>\n",
       "      <td><img src='http://image.tmdb.org/t/p/w185//hEpWvX6Bp79eLxY1kX5ZZJcme5U.jpg' style='height:100px;'></td>\n",
       "      <td>The Matrix</td>\n",
       "      <td>1999</td>\n",
       "      <td>Set in the 22nd century, The Matrix tells the story of a computer hacker who joins a group of un...</td>\n",
       "    </tr>\n",
       "    <tr>\n",
       "      <th>4506</th>\n",
       "      <td><img src='http://image.tmdb.org/t/p/w185//qEe7aE4PgZCwnVoxKe7YsTm3Smh.jpg' style='height:100px;'></td>\n",
       "      <td>Tears of the Sun</td>\n",
       "      <td>2003</td>\n",
       "      <td>Navy SEAL Lieutenant A.K. Waters and his elite squadron of tactical specialists are forced to ch...</td>\n",
       "    </tr>\n",
       "    <tr>\n",
       "      <th>975</th>\n",
       "      <td><img src='http://image.tmdb.org/t/p/w185//jgQU84QuFQ4yofDmGYzOsXLEQj9.jpg' style='height:100px;'></td>\n",
       "      <td>A Grand Day Out</td>\n",
       "      <td>1990</td>\n",
       "      <td>Wallace and Gromit have run out of cheese and this provides an excellent excuse for the animated...</td>\n",
       "    </tr>\n",
       "    <tr>\n",
       "      <th>538</th>\n",
       "      <td><img src='http://image.tmdb.org/t/p/w185//gw8wzitvvPUX7pK6a56KPDbxFqB.jpg' style='height:100px;'></td>\n",
       "      <td>Hellraiser: Bloodline</td>\n",
       "      <td>1996</td>\n",
       "      <td>In the 22nd century, a scientist attempts to right the wrong his ancestor created: the puzzle bo...</td>\n",
       "    </tr>\n",
       "    <tr>\n",
       "      <th>2910</th>\n",
       "      <td><img src='http://image.tmdb.org/t/p/w185//56Q26PUb5t7zOJccE0vo8fo2INt.jpg' style='height:100px;'></td>\n",
       "      <td>Pandora and the Flying Dutchman</td>\n",
       "      <td>1951</td>\n",
       "      <td>Albert Lewin's interpretation of the legend of the Flying Dutchman. In a little spanish seaport ...</td>\n",
       "    </tr>\n",
       "    <tr>\n",
       "      <th>3360</th>\n",
       "      <td><img src='http://image.tmdb.org/t/p/w185//zG83o1wpU3p7QTd382K4HtctLq0.jpg' style='height:100px;'></td>\n",
       "      <td>The Dish</td>\n",
       "      <td>2000</td>\n",
       "      <td>The true story of how the Parkes Radio Telescope was used to relay the live television of man's ...</td>\n",
       "    </tr>\n",
       "    <tr>\n",
       "      <th>5865</th>\n",
       "      <td><img src='http://image.tmdb.org/t/p/w185//2Dk0QPwrKYTBuplnEzrfnwGPRyc.jpg' style='height:100px;'></td>\n",
       "      <td>The Defender</td>\n",
       "      <td>1994</td>\n",
       "      <td>A corrupt businessman commits a murder and the only witness is the girlfriend of another busines...</td>\n",
       "    </tr>\n",
       "    <tr>\n",
       "      <th>7460</th>\n",
       "      <td><img src='http://image.tmdb.org/t/p/w185//7O3IkeHvp1sq5yMN0O8FsTee1C0.jpg' style='height:100px;'></td>\n",
       "      <td>Green Zone</td>\n",
       "      <td>2010</td>\n",
       "      <td>During the U.S.-led occupation of Baghdad in 2003, Chief Warrant Officer Roy Miller and his team...</td>\n",
       "    </tr>\n",
       "    <tr>\n",
       "      <th>7587</th>\n",
       "      <td><img src='http://image.tmdb.org/t/p/w185//40tfRIbp3HhDI2Vd0qCWF2q89S7.jpg' style='height:100px;'></td>\n",
       "      <td>The American</td>\n",
       "      <td>2010</td>\n",
       "      <td>Dispatched to a small Italian town to await further orders, assassin Jack embarks on a double li...</td>\n",
       "    </tr>\n",
       "    <tr>\n",
       "      <th>6105</th>\n",
       "      <td><img src='http://image.tmdb.org/t/p/w185//emuYkqLndEqeVNY5LpFvGXfAO3O.jpg' style='height:100px;'></td>\n",
       "      <td>A Trip to the Moon</td>\n",
       "      <td>1902</td>\n",
       "      <td>A Trip to The Moon is a science fiction film from the French film pioneer Georges Méliès from th...</td>\n",
       "    </tr>\n",
       "  </tbody>\n",
       "</table>"
      ],
      "text/plain": [
       "<IPython.core.display.HTML object>"
      ]
     },
     "execution_count": 47,
     "metadata": {},
     "output_type": "execute_result"
    }
   ],
   "source": [
    "get_recommendation('Avatar')\n",
    "HTML(get_recommendation('Avatar').to_html(escape=False))"
   ]
  },
  {
   "cell_type": "code",
   "execution_count": 49,
   "metadata": {},
   "outputs": [
    {
     "data": {
      "text/html": [
       "<table border=\"1\" class=\"dataframe\">\n",
       "  <thead>\n",
       "    <tr style=\"text-align: right;\">\n",
       "      <th></th>\n",
       "      <th>poster_path</th>\n",
       "      <th>title</th>\n",
       "      <th>year</th>\n",
       "      <th>description</th>\n",
       "    </tr>\n",
       "  </thead>\n",
       "  <tbody>\n",
       "    <tr>\n",
       "      <th>2207</th>\n",
       "      <td><img src='http://image.tmdb.org/t/p/w185//zYvJOoh6mviQcfHNbo3Y9fRoRp8.jpg' style='height:100px;'></td>\n",
       "      <td>Dick</td>\n",
       "      <td>1999</td>\n",
       "      <td>Comedy about two high school girls who wander off during a class trip to the White House and mee...</td>\n",
       "    </tr>\n",
       "    <tr>\n",
       "      <th>7097</th>\n",
       "      <td><img src='http://image.tmdb.org/t/p/w185//qCs0Vc3QhyqRSDLCDinOai5CVT5.jpg' style='height:100px;'></td>\n",
       "      <td>Frost/Nixon</td>\n",
       "      <td>2008</td>\n",
       "      <td>For three years after being forced from office, Nixon remained silent. But in summer 1977, the s...</td>\n",
       "    </tr>\n",
       "    <tr>\n",
       "      <th>5574</th>\n",
       "      <td><img src='http://image.tmdb.org/t/p/w185//uNMLsBv48WwIohS7n5DVe1fsFcb.jpg' style='height:100px;'></td>\n",
       "      <td>The Motorcycle Diaries</td>\n",
       "      <td>2004</td>\n",
       "      <td>\"The Motorcycle Diaries\" is based on the journals of Che Guevara, leader of the Cuban Revolution...</td>\n",
       "    </tr>\n",
       "    <tr>\n",
       "      <th>1276</th>\n",
       "      <td><img src='http://image.tmdb.org/t/p/w185//zgg8psC8jvNEx5RC4NJ4c9J0KtE.jpg' style='height:100px;'></td>\n",
       "      <td>Air Force One</td>\n",
       "      <td>1997</td>\n",
       "      <td>Russian terrorists conspire to hijack the aircraft with the president and his family on board. T...</td>\n",
       "    </tr>\n",
       "    <tr>\n",
       "      <th>3333</th>\n",
       "      <td><img src='http://image.tmdb.org/t/p/w185//t9fuja3D9miQU9lXJlmvlINn5kZ.jpg' style='height:100px;'></td>\n",
       "      <td>The Greatest Story Ever Told</td>\n",
       "      <td>1965</td>\n",
       "      <td>All-star epic retelling of Christ's life.</td>\n",
       "    </tr>\n",
       "    <tr>\n",
       "      <th>8634</th>\n",
       "      <td><img src='http://image.tmdb.org/t/p/w185//fwR4nNj7RUluMOR72QyzsDDmawK.jpg' style='height:100px;'></td>\n",
       "      <td>Nixon by Nixon: In His Own Words</td>\n",
       "      <td>2014</td>\n",
       "      <td>From 1971 to 1973, Richard Nixon secretly recorded his private conversations in the White House....</td>\n",
       "    </tr>\n",
       "    <tr>\n",
       "      <th>7267</th>\n",
       "      <td><img src='http://image.tmdb.org/t/p/w185//oxds3BQ99FdOxiR24Z5I7N5ELwv.jpg' style='height:100px;'></td>\n",
       "      <td>Aliens in the Attic</td>\n",
       "      <td>2009</td>\n",
       "      <td>It's summer vacation, but the Pearson family kids are stuck at a boring lake house with their ne...</td>\n",
       "    </tr>\n",
       "    <tr>\n",
       "      <th>7811</th>\n",
       "      <td><img src='http://image.tmdb.org/t/p/w185//oKqeMKZnTmG0O7JJIpXD3d8jHtR.jpg' style='height:100px;'></td>\n",
       "      <td>Too Big to Fail</td>\n",
       "      <td>2011</td>\n",
       "      <td>Based on the bestselling book by Andrew Ross Sorkin, 'Too Big to Fail' offers an intimate look a...</td>\n",
       "    </tr>\n",
       "    <tr>\n",
       "      <th>2969</th>\n",
       "      <td><img src='http://image.tmdb.org/t/p/w185//6CaqAGL7TJSFIF5lBTQZ8cgvMb5.jpg' style='height:100px;'></td>\n",
       "      <td>Sunshine</td>\n",
       "      <td>1999</td>\n",
       "      <td>The fate of a Hungarian Jewish family throughout the 20th century.</td>\n",
       "    </tr>\n",
       "    <tr>\n",
       "      <th>58</th>\n",
       "      <td><img src='http://image.tmdb.org/t/p/w185//jYEKdpVvRV3KdyHMUVYyg0KTVSY.jpg' style='height:100px;'></td>\n",
       "      <td>Mr. Holland's Opus</td>\n",
       "      <td>1995</td>\n",
       "      <td>In 1965, passionate musician Glenn Holland takes a day job as a high school music teacher, convi...</td>\n",
       "    </tr>\n",
       "  </tbody>\n",
       "</table>"
      ],
      "text/plain": [
       "<IPython.core.display.HTML object>"
      ]
     },
     "execution_count": 49,
     "metadata": {},
     "output_type": "execute_result"
    }
   ],
   "source": [
    "get_recommendation('Nixon')\n",
    "HTML(get_recommendation('Nixon').to_html(escape=False))"
   ]
  },
  {
   "cell_type": "markdown",
   "metadata": {},
   "source": [
    "## 2.2 Metadata Based Recommender"
   ]
  },
  {
   "cell_type": "markdown",
   "metadata": {},
   "source": [
    "It will be based on cast, crew, genre, keywords"
   ]
  },
  {
   "cell_type": "code",
   "execution_count": 50,
   "metadata": {},
   "outputs": [],
   "source": [
    "credits = pd.read_csv('credits.csv')\n",
    "keywords = pd.read_csv('keywords.csv')"
   ]
  },
  {
   "cell_type": "code",
   "execution_count": 51,
   "metadata": {},
   "outputs": [
    {
     "data": {
      "text/html": [
       "<div>\n",
       "<style scoped>\n",
       "    .dataframe tbody tr th:only-of-type {\n",
       "        vertical-align: middle;\n",
       "    }\n",
       "\n",
       "    .dataframe tbody tr th {\n",
       "        vertical-align: top;\n",
       "    }\n",
       "\n",
       "    .dataframe thead th {\n",
       "        text-align: right;\n",
       "    }\n",
       "</style>\n",
       "<table border=\"1\" class=\"dataframe\">\n",
       "  <thead>\n",
       "    <tr style=\"text-align: right;\">\n",
       "      <th></th>\n",
       "      <th>id</th>\n",
       "      <th>keywords</th>\n",
       "    </tr>\n",
       "  </thead>\n",
       "  <tbody>\n",
       "    <tr>\n",
       "      <th>0</th>\n",
       "      <td>862</td>\n",
       "      <td>[{'id': 931, 'name': 'jealousy'}, {'id': 4290, 'name': 'toy'}, {'id': 5202, 'name': 'boy'}, {'id...</td>\n",
       "    </tr>\n",
       "    <tr>\n",
       "      <th>1</th>\n",
       "      <td>8844</td>\n",
       "      <td>[{'id': 10090, 'name': 'board game'}, {'id': 10941, 'name': 'disappearance'}, {'id': 15101, 'nam...</td>\n",
       "    </tr>\n",
       "  </tbody>\n",
       "</table>\n",
       "</div>"
      ],
      "text/plain": [
       "     id  \\\n",
       "0   862   \n",
       "1  8844   \n",
       "\n",
       "                                                                                              keywords  \n",
       "0  [{'id': 931, 'name': 'jealousy'}, {'id': 4290, 'name': 'toy'}, {'id': 5202, 'name': 'boy'}, {'id...  \n",
       "1  [{'id': 10090, 'name': 'board game'}, {'id': 10941, 'name': 'disappearance'}, {'id': 15101, 'nam...  "
      ]
     },
     "execution_count": 51,
     "metadata": {},
     "output_type": "execute_result"
    }
   ],
   "source": [
    "keywords.head(2)"
   ]
  },
  {
   "cell_type": "code",
   "execution_count": 52,
   "metadata": {},
   "outputs": [
    {
     "data": {
      "text/html": [
       "<div>\n",
       "<style scoped>\n",
       "    .dataframe tbody tr th:only-of-type {\n",
       "        vertical-align: middle;\n",
       "    }\n",
       "\n",
       "    .dataframe tbody tr th {\n",
       "        vertical-align: top;\n",
       "    }\n",
       "\n",
       "    .dataframe thead th {\n",
       "        text-align: right;\n",
       "    }\n",
       "</style>\n",
       "<table border=\"1\" class=\"dataframe\">\n",
       "  <thead>\n",
       "    <tr style=\"text-align: right;\">\n",
       "      <th></th>\n",
       "      <th>cast</th>\n",
       "      <th>crew</th>\n",
       "      <th>id</th>\n",
       "    </tr>\n",
       "  </thead>\n",
       "  <tbody>\n",
       "    <tr>\n",
       "      <th>0</th>\n",
       "      <td>[{'cast_id': 14, 'character': 'Woody (voice)', 'credit_id': '52fe4284c3a36847f8024f95', 'gender'...</td>\n",
       "      <td>[{'credit_id': '52fe4284c3a36847f8024f49', 'department': 'Directing', 'gender': 2, 'id': 7879, '...</td>\n",
       "      <td>862</td>\n",
       "    </tr>\n",
       "    <tr>\n",
       "      <th>1</th>\n",
       "      <td>[{'cast_id': 1, 'character': 'Alan Parrish', 'credit_id': '52fe44bfc3a36847f80a7c73', 'gender': ...</td>\n",
       "      <td>[{'credit_id': '52fe44bfc3a36847f80a7cd1', 'department': 'Production', 'gender': 2, 'id': 511, '...</td>\n",
       "      <td>8844</td>\n",
       "    </tr>\n",
       "  </tbody>\n",
       "</table>\n",
       "</div>"
      ],
      "text/plain": [
       "                                                                                                  cast  \\\n",
       "0  [{'cast_id': 14, 'character': 'Woody (voice)', 'credit_id': '52fe4284c3a36847f8024f95', 'gender'...   \n",
       "1  [{'cast_id': 1, 'character': 'Alan Parrish', 'credit_id': '52fe44bfc3a36847f80a7c73', 'gender': ...   \n",
       "\n",
       "                                                                                                  crew  \\\n",
       "0  [{'credit_id': '52fe4284c3a36847f8024f49', 'department': 'Directing', 'gender': 2, 'id': 7879, '...   \n",
       "1  [{'credit_id': '52fe44bfc3a36847f80a7cd1', 'department': 'Production', 'gender': 2, 'id': 511, '...   \n",
       "\n",
       "     id  \n",
       "0   862  \n",
       "1  8844  "
      ]
     },
     "execution_count": 52,
     "metadata": {},
     "output_type": "execute_result"
    }
   ],
   "source": [
    "credits.head(2)"
   ]
  },
  {
   "cell_type": "code",
   "execution_count": 53,
   "metadata": {},
   "outputs": [],
   "source": [
    "keywords['id'] = keywords['id'].astype('int')\n",
    "credits['id'] =credits['id'].astype('int')\n",
    "df['id'] = df['id'].astype('int')\n",
    "df = df.merge(credits,on='id')\n",
    "df = df.merge(keywords,on='id')"
   ]
  },
  {
   "cell_type": "code",
   "execution_count": 93,
   "metadata": {},
   "outputs": [],
   "source": [
    "smd =df[df['id'].isin(links_small)]"
   ]
  },
  {
   "cell_type": "code",
   "execution_count": 94,
   "metadata": {},
   "outputs": [
    {
     "data": {
      "text/plain": [
       "(9219, 26)"
      ]
     },
     "execution_count": 94,
     "metadata": {},
     "output_type": "execute_result"
    }
   ],
   "source": [
    "smd.shape"
   ]
  },
  {
   "cell_type": "code",
   "execution_count": 95,
   "metadata": {},
   "outputs": [
    {
     "data": {
      "text/html": [
       "<div>\n",
       "<style scoped>\n",
       "    .dataframe tbody tr th:only-of-type {\n",
       "        vertical-align: middle;\n",
       "    }\n",
       "\n",
       "    .dataframe tbody tr th {\n",
       "        vertical-align: top;\n",
       "    }\n",
       "\n",
       "    .dataframe thead th {\n",
       "        text-align: right;\n",
       "    }\n",
       "</style>\n",
       "<table border=\"1\" class=\"dataframe\">\n",
       "  <thead>\n",
       "    <tr style=\"text-align: right;\">\n",
       "      <th></th>\n",
       "      <th>adult</th>\n",
       "      <th>belongs_to_collection</th>\n",
       "      <th>budget</th>\n",
       "      <th>genres</th>\n",
       "      <th>id</th>\n",
       "      <th>imdb_id</th>\n",
       "      <th>original_language</th>\n",
       "      <th>original_title</th>\n",
       "      <th>overview</th>\n",
       "      <th>popularity</th>\n",
       "      <th>...</th>\n",
       "      <th>spoken_languages</th>\n",
       "      <th>status</th>\n",
       "      <th>tagline</th>\n",
       "      <th>title</th>\n",
       "      <th>vote_average</th>\n",
       "      <th>vote_count</th>\n",
       "      <th>year</th>\n",
       "      <th>cast</th>\n",
       "      <th>crew</th>\n",
       "      <th>keywords</th>\n",
       "    </tr>\n",
       "  </thead>\n",
       "  <tbody>\n",
       "    <tr>\n",
       "      <th>0</th>\n",
       "      <td>False</td>\n",
       "      <td>{'id': 10194, 'name': 'Toy Story Collection', 'poster_path': '/7G9915LfUQ2lVfwMEEhDsn3kT4B.jpg',...</td>\n",
       "      <td>30000000</td>\n",
       "      <td>[Animation, Comedy, Family]</td>\n",
       "      <td>862</td>\n",
       "      <td>tt0114709</td>\n",
       "      <td>en</td>\n",
       "      <td>Toy Story</td>\n",
       "      <td>Led by Woody, Andy's toys live happily in his room until Andy's birthday brings Buzz Lightyear o...</td>\n",
       "      <td>21.9469</td>\n",
       "      <td>...</td>\n",
       "      <td>[{'iso_639_1': 'en', 'name': 'English'}]</td>\n",
       "      <td>Released</td>\n",
       "      <td>NaN</td>\n",
       "      <td>Toy Story</td>\n",
       "      <td>7.7</td>\n",
       "      <td>5415.0</td>\n",
       "      <td>1995</td>\n",
       "      <td>[{'cast_id': 14, 'character': 'Woody (voice)', 'credit_id': '52fe4284c3a36847f8024f95', 'gender'...</td>\n",
       "      <td>[{'credit_id': '52fe4284c3a36847f8024f49', 'department': 'Directing', 'gender': 2, 'id': 7879, '...</td>\n",
       "      <td>[{'id': 931, 'name': 'jealousy'}, {'id': 4290, 'name': 'toy'}, {'id': 5202, 'name': 'boy'}, {'id...</td>\n",
       "    </tr>\n",
       "    <tr>\n",
       "      <th>1</th>\n",
       "      <td>False</td>\n",
       "      <td>NaN</td>\n",
       "      <td>65000000</td>\n",
       "      <td>[Adventure, Fantasy, Family]</td>\n",
       "      <td>8844</td>\n",
       "      <td>tt0113497</td>\n",
       "      <td>en</td>\n",
       "      <td>Jumanji</td>\n",
       "      <td>When siblings Judy and Peter discover an enchanted board game that opens the door to a magical w...</td>\n",
       "      <td>17.0155</td>\n",
       "      <td>...</td>\n",
       "      <td>[{'iso_639_1': 'en', 'name': 'English'}, {'iso_639_1': 'fr', 'name': 'Français'}]</td>\n",
       "      <td>Released</td>\n",
       "      <td>Roll the dice and unleash the excitement!</td>\n",
       "      <td>Jumanji</td>\n",
       "      <td>6.9</td>\n",
       "      <td>2413.0</td>\n",
       "      <td>1995</td>\n",
       "      <td>[{'cast_id': 1, 'character': 'Alan Parrish', 'credit_id': '52fe44bfc3a36847f80a7c73', 'gender': ...</td>\n",
       "      <td>[{'credit_id': '52fe44bfc3a36847f80a7cd1', 'department': 'Production', 'gender': 2, 'id': 511, '...</td>\n",
       "      <td>[{'id': 10090, 'name': 'board game'}, {'id': 10941, 'name': 'disappearance'}, {'id': 15101, 'nam...</td>\n",
       "    </tr>\n",
       "  </tbody>\n",
       "</table>\n",
       "<p>2 rows × 26 columns</p>\n",
       "</div>"
      ],
      "text/plain": [
       "   adult  \\\n",
       "0  False   \n",
       "1  False   \n",
       "\n",
       "                                                                                 belongs_to_collection  \\\n",
       "0  {'id': 10194, 'name': 'Toy Story Collection', 'poster_path': '/7G9915LfUQ2lVfwMEEhDsn3kT4B.jpg',...   \n",
       "1                                                                                                  NaN   \n",
       "\n",
       "     budget                        genres    id    imdb_id original_language  \\\n",
       "0  30000000   [Animation, Comedy, Family]   862  tt0114709                en   \n",
       "1  65000000  [Adventure, Fantasy, Family]  8844  tt0113497                en   \n",
       "\n",
       "  original_title  \\\n",
       "0      Toy Story   \n",
       "1        Jumanji   \n",
       "\n",
       "                                                                                              overview  \\\n",
       "0  Led by Woody, Andy's toys live happily in his room until Andy's birthday brings Buzz Lightyear o...   \n",
       "1  When siblings Judy and Peter discover an enchanted board game that opens the door to a magical w...   \n",
       "\n",
       "  popularity  \\\n",
       "0    21.9469   \n",
       "1    17.0155   \n",
       "\n",
       "                                                  ...                                                   \\\n",
       "0                                                 ...                                                    \n",
       "1                                                 ...                                                    \n",
       "\n",
       "                                                                    spoken_languages  \\\n",
       "0                                           [{'iso_639_1': 'en', 'name': 'English'}]   \n",
       "1  [{'iso_639_1': 'en', 'name': 'English'}, {'iso_639_1': 'fr', 'name': 'Français'}]   \n",
       "\n",
       "     status                                    tagline      title  \\\n",
       "0  Released                                        NaN  Toy Story   \n",
       "1  Released  Roll the dice and unleash the excitement!    Jumanji   \n",
       "\n",
       "   vote_average  vote_count  year  \\\n",
       "0           7.7      5415.0  1995   \n",
       "1           6.9      2413.0  1995   \n",
       "\n",
       "                                                                                                  cast  \\\n",
       "0  [{'cast_id': 14, 'character': 'Woody (voice)', 'credit_id': '52fe4284c3a36847f8024f95', 'gender'...   \n",
       "1  [{'cast_id': 1, 'character': 'Alan Parrish', 'credit_id': '52fe44bfc3a36847f80a7c73', 'gender': ...   \n",
       "\n",
       "                                                                                                  crew  \\\n",
       "0  [{'credit_id': '52fe4284c3a36847f8024f49', 'department': 'Directing', 'gender': 2, 'id': 7879, '...   \n",
       "1  [{'credit_id': '52fe44bfc3a36847f80a7cd1', 'department': 'Production', 'gender': 2, 'id': 511, '...   \n",
       "\n",
       "                                                                                              keywords  \n",
       "0  [{'id': 931, 'name': 'jealousy'}, {'id': 4290, 'name': 'toy'}, {'id': 5202, 'name': 'boy'}, {'id...  \n",
       "1  [{'id': 10090, 'name': 'board game'}, {'id': 10941, 'name': 'disappearance'}, {'id': 15101, 'nam...  \n",
       "\n",
       "[2 rows x 26 columns]"
      ]
     },
     "execution_count": 95,
     "metadata": {},
     "output_type": "execute_result"
    }
   ],
   "source": [
    "smd.head(2)         # Check the cast and crew column"
   ]
  },
  {
   "cell_type": "code",
   "execution_count": 96,
   "metadata": {},
   "outputs": [
    {
     "name": "stderr",
     "output_type": "stream",
     "text": [
      "/Users/suyashchavan/anaconda3/lib/python3.7/site-packages/ipykernel_launcher.py:1: SettingWithCopyWarning: \n",
      "A value is trying to be set on a copy of a slice from a DataFrame.\n",
      "Try using .loc[row_indexer,col_indexer] = value instead\n",
      "\n",
      "See the caveats in the documentation: http://pandas.pydata.org/pandas-docs/stable/indexing.html#indexing-view-versus-copy\n",
      "  \"\"\"Entry point for launching an IPython kernel.\n",
      "/Users/suyashchavan/anaconda3/lib/python3.7/site-packages/ipykernel_launcher.py:2: SettingWithCopyWarning: \n",
      "A value is trying to be set on a copy of a slice from a DataFrame.\n",
      "Try using .loc[row_indexer,col_indexer] = value instead\n",
      "\n",
      "See the caveats in the documentation: http://pandas.pydata.org/pandas-docs/stable/indexing.html#indexing-view-versus-copy\n",
      "  \n",
      "/Users/suyashchavan/anaconda3/lib/python3.7/site-packages/ipykernel_launcher.py:3: SettingWithCopyWarning: \n",
      "A value is trying to be set on a copy of a slice from a DataFrame.\n",
      "Try using .loc[row_indexer,col_indexer] = value instead\n",
      "\n",
      "See the caveats in the documentation: http://pandas.pydata.org/pandas-docs/stable/indexing.html#indexing-view-versus-copy\n",
      "  This is separate from the ipykernel package so we can avoid doing imports until\n"
     ]
    }
   ],
   "source": [
    "smd['cast'] = smd['cast'].apply(ast.literal_eval)\n",
    "smd['crew'] = smd['crew'].apply(ast.literal_eval)\n",
    "smd['keywords'] = smd['keywords'].apply(ast.literal_eval)"
   ]
  },
  {
   "cell_type": "markdown",
   "metadata": {},
   "source": [
    "In Cast column, there are total 10-15 actors are present for each movie, but we need only top 3-4 main actors who have worked in movie"
   ]
  },
  {
   "cell_type": "code",
   "execution_count": 97,
   "metadata": {},
   "outputs": [
    {
     "name": "stderr",
     "output_type": "stream",
     "text": [
      "/Users/suyashchavan/anaconda3/lib/python3.7/site-packages/ipykernel_launcher.py:1: SettingWithCopyWarning: \n",
      "A value is trying to be set on a copy of a slice from a DataFrame.\n",
      "Try using .loc[row_indexer,col_indexer] = value instead\n",
      "\n",
      "See the caveats in the documentation: http://pandas.pydata.org/pandas-docs/stable/indexing.html#indexing-view-versus-copy\n",
      "  \"\"\"Entry point for launching an IPython kernel.\n",
      "/Users/suyashchavan/anaconda3/lib/python3.7/site-packages/ipykernel_launcher.py:2: SettingWithCopyWarning: \n",
      "A value is trying to be set on a copy of a slice from a DataFrame.\n",
      "Try using .loc[row_indexer,col_indexer] = value instead\n",
      "\n",
      "See the caveats in the documentation: http://pandas.pydata.org/pandas-docs/stable/indexing.html#indexing-view-versus-copy\n",
      "  \n"
     ]
    }
   ],
   "source": [
    "smd['cast'] = smd['cast'].apply(lambda x: [i['name'] for i in x])\n",
    "smd['cast'] = smd['cast'].apply(lambda x: x[:4] if len(x)>3 else x) # only top 4 actors"
   ]
  },
  {
   "cell_type": "markdown",
   "metadata": {},
   "source": [
    "Now we will get director"
   ]
  },
  {
   "cell_type": "code",
   "execution_count": 98,
   "metadata": {},
   "outputs": [],
   "source": [
    "def get_director(crew):\n",
    "    \n",
    "    for i in crew:\n",
    "        \n",
    "        if i['job'] =='Director':\n",
    "            return i['name']\n",
    "        \n",
    "    else:\n",
    "        return np.nan"
   ]
  },
  {
   "cell_type": "code",
   "execution_count": 99,
   "metadata": {},
   "outputs": [
    {
     "name": "stderr",
     "output_type": "stream",
     "text": [
      "/Users/suyashchavan/anaconda3/lib/python3.7/site-packages/ipykernel_launcher.py:1: SettingWithCopyWarning: \n",
      "A value is trying to be set on a copy of a slice from a DataFrame.\n",
      "Try using .loc[row_indexer,col_indexer] = value instead\n",
      "\n",
      "See the caveats in the documentation: http://pandas.pydata.org/pandas-docs/stable/indexing.html#indexing-view-versus-copy\n",
      "  \"\"\"Entry point for launching an IPython kernel.\n"
     ]
    }
   ],
   "source": [
    "smd['director'] = smd['crew'].apply(get_director)\n",
    "smd = smd.drop('crew',axis=1)"
   ]
  },
  {
   "cell_type": "code",
   "execution_count": 100,
   "metadata": {},
   "outputs": [],
   "source": [
    "smd['keywords'] = smd['keywords'].apply(lambda x:[i['name'] for i in x] if isinstance(x,list) else [])"
   ]
  },
  {
   "cell_type": "markdown",
   "metadata": {},
   "source": [
    "#### Now in cast column there actors such as brad pitt and brad renfro, after we create a soup the computer will consider both brad same  so we need to join first name and last name together"
   ]
  },
  {
   "cell_type": "code",
   "execution_count": 101,
   "metadata": {},
   "outputs": [],
   "source": [
    "smd['cast'] = smd['cast'].apply(lambda x: [str.lower(i.replace(' ','')) for i in x])\n",
    "smd['director'] = smd['director'].astype('str').apply(lambda x: str.lower(x.replace(' ','')))\n",
    "smd['director'] = smd['director'].apply(lambda x: [x,x])  # We are adding directors name 3 times to give more weightage"
   ]
  },
  {
   "cell_type": "code",
   "execution_count": 84,
   "metadata": {},
   "outputs": [],
   "source": []
  },
  {
   "cell_type": "markdown",
   "metadata": {},
   "source": [
    "### Now using Snowball stemmer we will stem keywords "
   ]
  },
  {
   "cell_type": "code",
   "execution_count": 102,
   "metadata": {},
   "outputs": [],
   "source": [
    "stemmer = SnowballStemmer('english')"
   ]
  },
  {
   "cell_type": "code",
   "execution_count": 103,
   "metadata": {},
   "outputs": [],
   "source": [
    "smd['keywords'] = smd['keywords'].apply(lambda x: [stemmer.stem(i) for i in x])"
   ]
  },
  {
   "cell_type": "code",
   "execution_count": 104,
   "metadata": {},
   "outputs": [],
   "source": [
    "smd['keywords'] = smd['keywords'].apply(lambda x:[str.lower(i.replace(' ','')) for i in x])"
   ]
  },
  {
   "cell_type": "code",
   "execution_count": 105,
   "metadata": {},
   "outputs": [],
   "source": [
    "smd['soup'] = smd['keywords'] + smd['cast'] + smd['director'] + smd['genres']"
   ]
  },
  {
   "cell_type": "code",
   "execution_count": 106,
   "metadata": {},
   "outputs": [],
   "source": [
    "smd['soup'] = smd['soup'].apply(lambda x:' '.join(x))"
   ]
  },
  {
   "cell_type": "code",
   "execution_count": 107,
   "metadata": {},
   "outputs": [],
   "source": [
    "count = CountVectorizer(analyzer='word',ngram_range=(1,2),min_df=0,stop_words='english')\n",
    "count_matrix = count.fit_transform(smd['soup'])"
   ]
  },
  {
   "cell_type": "code",
   "execution_count": 108,
   "metadata": {},
   "outputs": [
    {
     "data": {
      "text/plain": [
       "(9219, 132041)"
      ]
     },
     "execution_count": 108,
     "metadata": {},
     "output_type": "execute_result"
    }
   ],
   "source": [
    "count_matrix.shape"
   ]
  },
  {
   "cell_type": "code",
   "execution_count": 109,
   "metadata": {},
   "outputs": [],
   "source": [
    "cosine_sim = cosine_similarity(count_matrix,count_matrix)"
   ]
  },
  {
   "cell_type": "code",
   "execution_count": 110,
   "metadata": {},
   "outputs": [],
   "source": [
    "smd =  smd.reset_index()\n",
    "titles = smd['title']\n",
    "indices = pd.Series(titles.index, index = smd['title'])"
   ]
  },
  {
   "cell_type": "code",
   "execution_count": 111,
   "metadata": {},
   "outputs": [],
   "source": [
    "def get_recommendation_2(title):\n",
    "    idx = indices[title]\n",
    "    sim_scores = list(enumerate(cosine_sim[idx]))\n",
    "    sim_scores = sorted(sim_scores, key= lambda x:x[1], reverse=True)\n",
    "    sim_scores = sim_scores[1:11]\n",
    "    movies_indices = [i[0] for i in sim_scores]\n",
    "    j= smd.iloc[movies_indices][['poster_path','title','year','cast','director']]\n",
    "    j['director'] = j['director'].apply(lambda x:x[0])\n",
    "    return j"
   ]
  },
  {
   "cell_type": "markdown",
   "metadata": {},
   "source": [
    "As Our Cosine function is changed, lets see what recommendation we get now"
   ]
  },
  {
   "cell_type": "code",
   "execution_count": 112,
   "metadata": {},
   "outputs": [
    {
     "data": {
      "text/html": [
       "<table border=\"1\" class=\"dataframe\">\n",
       "  <thead>\n",
       "    <tr style=\"text-align: right;\">\n",
       "      <th></th>\n",
       "      <th>poster_path</th>\n",
       "      <th>title</th>\n",
       "      <th>year</th>\n",
       "      <th>cast</th>\n",
       "      <th>director</th>\n",
       "    </tr>\n",
       "  </thead>\n",
       "  <tbody>\n",
       "    <tr>\n",
       "      <th>8031</th>\n",
       "      <td><img src='http://image.tmdb.org/t/p/w185//dEYnvnUfXrqvqeRSqvIEtmzhoA8.jpg' style='height:100px;'></td>\n",
       "      <td>The Dark Knight Rises</td>\n",
       "      <td>2012</td>\n",
       "      <td>[christianbale, michaelcaine, garyoldman, annehathaway]</td>\n",
       "      <td>christophernolan</td>\n",
       "    </tr>\n",
       "    <tr>\n",
       "      <th>6218</th>\n",
       "      <td><img src='http://image.tmdb.org/t/p/w185//dr6x4GyyegBWtinPBzipY02J2lV.jpg' style='height:100px;'></td>\n",
       "      <td>Batman Begins</td>\n",
       "      <td>2005</td>\n",
       "      <td>[christianbale, michaelcaine, liamneeson, katieholmes]</td>\n",
       "      <td>christophernolan</td>\n",
       "    </tr>\n",
       "    <tr>\n",
       "      <th>6623</th>\n",
       "      <td><img src='http://image.tmdb.org/t/p/w185//5MXyQfz8xUP3dIFPTubhTsbFY6N.jpg' style='height:100px;'></td>\n",
       "      <td>The Prestige</td>\n",
       "      <td>2006</td>\n",
       "      <td>[hughjackman, christianbale, michaelcaine, scarlettjohansson]</td>\n",
       "      <td>christophernolan</td>\n",
       "    </tr>\n",
       "    <tr>\n",
       "      <th>7659</th>\n",
       "      <td><img src='http://image.tmdb.org/t/p/w185//78kjgspmLLOm2Glgpzqo9cS4GpI.jpg' style='height:100px;'></td>\n",
       "      <td>Batman: Under the Red Hood</td>\n",
       "      <td>2010</td>\n",
       "      <td>[brucegreenwood, jensenackles, neilpatrickharris, jasonisaacs]</td>\n",
       "      <td>brandonvietti</td>\n",
       "    </tr>\n",
       "    <tr>\n",
       "      <th>5943</th>\n",
       "      <td><img src='http://image.tmdb.org/t/p/w185//fVhzoni8VihQ4jxiWV0yZlRB64P.jpg' style='height:100px;'></td>\n",
       "      <td>Thursday</td>\n",
       "      <td>1998</td>\n",
       "      <td>[thomasjane, paulamarshall, aaroneckhart, jameslegros]</td>\n",
       "      <td>skipwoods</td>\n",
       "    </tr>\n",
       "    <tr>\n",
       "      <th>8927</th>\n",
       "      <td><img src='http://image.tmdb.org/t/p/w185//567sh0LAl6pgfFQz9D9KsfT3g9s.jpg' style='height:100px;'></td>\n",
       "      <td>Kidnapping Mr. Heineken</td>\n",
       "      <td>2015</td>\n",
       "      <td>[anthonyhopkins, jimsturgess, samworthington, ryankwanten]</td>\n",
       "      <td>danielalfredson</td>\n",
       "    </tr>\n",
       "    <tr>\n",
       "      <th>1134</th>\n",
       "      <td><img src='http://image.tmdb.org/t/p/w185//jX5THE1yW3zTdeD9dupcIyQvKiG.jpg' style='height:100px;'></td>\n",
       "      <td>Batman Returns</td>\n",
       "      <td>1992</td>\n",
       "      <td>[michaelkeaton, dannydevito, michellepfeiffer, christopherwalken]</td>\n",
       "      <td>timburton</td>\n",
       "    </tr>\n",
       "    <tr>\n",
       "      <th>1260</th>\n",
       "      <td><img src='http://image.tmdb.org/t/p/w185//79AYCcxw3kSKbhGpx1LiqaCAbwo.jpg' style='height:100px;'></td>\n",
       "      <td>Batman & Robin</td>\n",
       "      <td>1997</td>\n",
       "      <td>[georgeclooney, chriso'donnell, arnoldschwarzenegger, umathurman]</td>\n",
       "      <td>joelschumacher</td>\n",
       "    </tr>\n",
       "    <tr>\n",
       "      <th>2085</th>\n",
       "      <td><img src='http://image.tmdb.org/t/p/w185//uoWnnSlUIWjqUXxfIej3ucAxg7J.jpg' style='height:100px;'></td>\n",
       "      <td>Following</td>\n",
       "      <td>1998</td>\n",
       "      <td>[jeremytheobald, alexhaw, lucyrussell, johnnolan]</td>\n",
       "      <td>christophernolan</td>\n",
       "    </tr>\n",
       "    <tr>\n",
       "      <th>9162</th>\n",
       "      <td><img src='http://image.tmdb.org/t/p/w185//9j2AmDhZvdwMyYKpqe4CtBkN1Tw.jpg' style='height:100px;'></td>\n",
       "      <td>London Has Fallen</td>\n",
       "      <td>2016</td>\n",
       "      <td>[gerardbutler, aaroneckhart, morganfreeman, angelabassett]</td>\n",
       "      <td>babaknajafi</td>\n",
       "    </tr>\n",
       "  </tbody>\n",
       "</table>"
      ],
      "text/plain": [
       "<IPython.core.display.HTML object>"
      ]
     },
     "execution_count": 112,
     "metadata": {},
     "output_type": "execute_result"
    }
   ],
   "source": [
    "get_recommendation_2('The Dark Knight')\n",
    "HTML(get_recommendation_2('The Dark Knight').to_html(escape=False))"
   ]
  },
  {
   "cell_type": "markdown",
   "metadata": {},
   "source": [
    "Now Most of the movies recommended by recommender  for dark knight are dominated by christian bale, and christopher nolan"
   ]
  },
  {
   "cell_type": "code",
   "execution_count": 113,
   "metadata": {},
   "outputs": [
    {
     "data": {
      "text/html": [
       "<table border=\"1\" class=\"dataframe\">\n",
       "  <thead>\n",
       "    <tr style=\"text-align: right;\">\n",
       "      <th></th>\n",
       "      <th>poster_path</th>\n",
       "      <th>title</th>\n",
       "      <th>year</th>\n",
       "      <th>cast</th>\n",
       "      <th>director</th>\n",
       "    </tr>\n",
       "  </thead>\n",
       "  <tbody>\n",
       "    <tr>\n",
       "      <th>8401</th>\n",
       "      <td><img src='http://image.tmdb.org/t/p/w185//41mhrXASAW3sdn7LBWF49uCX0xi.jpg' style='height:100px;'></td>\n",
       "      <td>Star Trek Into Darkness</td>\n",
       "      <td>2013</td>\n",
       "      <td>[chrispine, zacharyquinto, zoesaldana, karlurban]</td>\n",
       "      <td>j.j.abrams</td>\n",
       "    </tr>\n",
       "    <tr>\n",
       "      <th>974</th>\n",
       "      <td><img src='http://image.tmdb.org/t/p/w185//nORMXEkYEbzkU5WkMWMgRDJwjSZ.jpg' style='height:100px;'></td>\n",
       "      <td>Aliens</td>\n",
       "      <td>1986</td>\n",
       "      <td>[sigourneyweaver, michaelbiehn, jamesremar, paulreiser]</td>\n",
       "      <td>jamescameron</td>\n",
       "    </tr>\n",
       "    <tr>\n",
       "      <th>8724</th>\n",
       "      <td><img src='http://image.tmdb.org/t/p/w185//aMEsvTUklw0uZ3gk3Q6lAj6302a.jpg' style='height:100px;'></td>\n",
       "      <td>Jupiter Ascending</td>\n",
       "      <td>2015</td>\n",
       "      <td>[milakunis, channingtatum, seanbean, eddieredmayne]</td>\n",
       "      <td>lillywachowski</td>\n",
       "    </tr>\n",
       "    <tr>\n",
       "      <th>3216</th>\n",
       "      <td><img src='http://image.tmdb.org/t/p/w185//hHoMqCagqwnahAvwkzCOp6MPMWC.jpg' style='height:100px;'></td>\n",
       "      <td>Dungeons & Dragons</td>\n",
       "      <td>2000</td>\n",
       "      <td>[justinwhalin, jeremyirons, thorabirch, brucepayne]</td>\n",
       "      <td>courtneysolomon</td>\n",
       "    </tr>\n",
       "    <tr>\n",
       "      <th>1011</th>\n",
       "      <td><img src='http://image.tmdb.org/t/p/w185//q8ffBuxQlYOHrvPniLgCbmKK4Lv.jpg' style='height:100px;'></td>\n",
       "      <td>The Terminator</td>\n",
       "      <td>1984</td>\n",
       "      <td>[arnoldschwarzenegger, michaelbiehn, lindahamilton, paulwinfield]</td>\n",
       "      <td>jamescameron</td>\n",
       "    </tr>\n",
       "    <tr>\n",
       "      <th>3060</th>\n",
       "      <td><img src='http://image.tmdb.org/t/p/w185//oahAmW8yKUhuF4IYJPz8f0AQoms.jpg' style='height:100px;'></td>\n",
       "      <td>Sinbad and the Eye of the Tiger</td>\n",
       "      <td>1977</td>\n",
       "      <td>[patrickwayne, tarynpower, margaretwhiting, janeseymour]</td>\n",
       "      <td>samwanamaker</td>\n",
       "    </tr>\n",
       "    <tr>\n",
       "      <th>4966</th>\n",
       "      <td><img src='http://image.tmdb.org/t/p/w185//btBv9Q9Ge56JhzaTZktw9VZn86p.jpg' style='height:100px;'></td>\n",
       "      <td>Hercules in New York</td>\n",
       "      <td>1969</td>\n",
       "      <td>[arnoldschwarzenegger, deborahloomis, tainaelg, jameskaren]</td>\n",
       "      <td>arthurallanseidelman</td>\n",
       "    </tr>\n",
       "    <tr>\n",
       "      <th>7265</th>\n",
       "      <td><img src='http://image.tmdb.org/t/p/w185//yERkcVylXAcTCi8f0qrba4rmWwg.jpg' style='height:100px;'></td>\n",
       "      <td>Dragonball Evolution</td>\n",
       "      <td>2009</td>\n",
       "      <td>[chowyun-fat, justinchatwin, joonpark, jamiechung]</td>\n",
       "      <td>jameswong</td>\n",
       "    </tr>\n",
       "    <tr>\n",
       "      <th>1668</th>\n",
       "      <td><img src='http://image.tmdb.org/t/p/w185//xyApwnx2Rf8105KrfO0oCWq56Bc.jpg' style='height:100px;'></td>\n",
       "      <td>Return from Witch Mountain</td>\n",
       "      <td>1978</td>\n",
       "      <td>[bettedavis, christopherlee, kimrichards, ikeeisenmann]</td>\n",
       "      <td>johnhough</td>\n",
       "    </tr>\n",
       "    <tr>\n",
       "      <th>4017</th>\n",
       "      <td><img src='http://image.tmdb.org/t/p/w185//aQyC61n6pnZ0kPpKJV2ms9FT44f.jpg' style='height:100px;'></td>\n",
       "      <td>Hawk the Slayer</td>\n",
       "      <td>1980</td>\n",
       "      <td>[jackpalance, johnterry, bernardbresslaw, raycharleson]</td>\n",
       "      <td>terrymarcel</td>\n",
       "    </tr>\n",
       "  </tbody>\n",
       "</table>"
      ],
      "text/plain": [
       "<IPython.core.display.HTML object>"
      ]
     },
     "execution_count": 113,
     "metadata": {},
     "output_type": "execute_result"
    }
   ],
   "source": [
    "get_recommendation_2('Avatar')\n",
    "HTML(get_recommendation_2('Avatar').to_html(escape=False))"
   ]
  },
  {
   "cell_type": "code",
   "execution_count": 114,
   "metadata": {},
   "outputs": [
    {
     "data": {
      "text/html": [
       "<table border=\"1\" class=\"dataframe\">\n",
       "  <thead>\n",
       "    <tr style=\"text-align: right;\">\n",
       "      <th></th>\n",
       "      <th>poster_path</th>\n",
       "      <th>title</th>\n",
       "      <th>year</th>\n",
       "      <th>cast</th>\n",
       "      <th>director</th>\n",
       "    </tr>\n",
       "  </thead>\n",
       "  <tbody>\n",
       "    <tr>\n",
       "      <th>189</th>\n",
       "      <td><img src='http://image.tmdb.org/t/p/w185//jsQy4ZbPHA8hE2O6QU05PpofI61.jpg' style='height:100px;'></td>\n",
       "      <td>Before Sunrise</td>\n",
       "      <td>1995</td>\n",
       "      <td>[ethanhawke, juliedelpy, andreaeckert, hannopöschl]</td>\n",
       "      <td>richardlinklater</td>\n",
       "    </tr>\n",
       "    <tr>\n",
       "      <th>8362</th>\n",
       "      <td><img src='http://image.tmdb.org/t/p/w185//uDdobcCBfPObD2pqDSTjXxELt3c.jpg' style='height:100px;'></td>\n",
       "      <td>Before Midnight</td>\n",
       "      <td>2013</td>\n",
       "      <td>[ethanhawke, juliedelpy, seamusdavey-fitzpatrick, jenniferprior]</td>\n",
       "      <td>richardlinklater</td>\n",
       "    </tr>\n",
       "    <tr>\n",
       "      <th>3825</th>\n",
       "      <td><img src='http://image.tmdb.org/t/p/w185//dHQDhjt84ViDH0DhFm5PSyIo1J.jpg' style='height:100px;'></td>\n",
       "      <td>Waking Life</td>\n",
       "      <td>2001</td>\n",
       "      <td>[wileywiggins, ethanhawke, juliedelpy, kenwebster]</td>\n",
       "      <td>richardlinklater</td>\n",
       "    </tr>\n",
       "    <tr>\n",
       "      <th>1193</th>\n",
       "      <td><img src='http://image.tmdb.org/t/p/w185//7PdRbG09K9JHYyOwwCSn3OdJb0N.jpg' style='height:100px;'></td>\n",
       "      <td>SubUrbia</td>\n",
       "      <td>1996</td>\n",
       "      <td>[jaycebartok, amiecarey, nickykatt, ajaynaidu]</td>\n",
       "      <td>richardlinklater</td>\n",
       "    </tr>\n",
       "    <tr>\n",
       "      <th>1422</th>\n",
       "      <td><img src='http://image.tmdb.org/t/p/w185//yoDlDqwp83p8mc0sylVPlbKnVDy.jpg' style='height:100px;'></td>\n",
       "      <td>The Newton Boys</td>\n",
       "      <td>1998</td>\n",
       "      <td>[matthewmcconaughey, skeetulrich, ethanhawke, vincentd'onofrio]</td>\n",
       "      <td>richardlinklater</td>\n",
       "    </tr>\n",
       "    <tr>\n",
       "      <th>8686</th>\n",
       "      <td><img src='http://image.tmdb.org/t/p/w185//eKi4e5zXhQKs0De4xu5AAMvu376.jpg' style='height:100px;'></td>\n",
       "      <td>Boyhood</td>\n",
       "      <td>2014</td>\n",
       "      <td>[ellarcoltrane, patriciaarquette, ethanhawke, elijahsmith]</td>\n",
       "      <td>richardlinklater</td>\n",
       "    </tr>\n",
       "    <tr>\n",
       "      <th>7227</th>\n",
       "      <td><img src='http://image.tmdb.org/t/p/w185//3hZTaUN3WYJ9gaOAzWZ6wWlKIGk.jpg' style='height:100px;'></td>\n",
       "      <td>Two Lovers</td>\n",
       "      <td>2008</td>\n",
       "      <td>[joaquinphoenix, gwynethpaltrow, isabellarossellini, vinessashaw]</td>\n",
       "      <td>jamesgray</td>\n",
       "    </tr>\n",
       "    <tr>\n",
       "      <th>3255</th>\n",
       "      <td><img src='http://image.tmdb.org/t/p/w185//1fveHeEaOpGW91ZM4ViT0Jviuak.jpg' style='height:100px;'></td>\n",
       "      <td>An Officer and a Gentleman</td>\n",
       "      <td>1982</td>\n",
       "      <td>[richardgere, debrawinger, louisgossett,jr., davidkeith]</td>\n",
       "      <td>taylorhackford</td>\n",
       "    </tr>\n",
       "    <tr>\n",
       "      <th>4354</th>\n",
       "      <td><img src='http://image.tmdb.org/t/p/w185//zwkLXyeAKYGX6iKJemLlSSPmC22.jpg' style='height:100px;'></td>\n",
       "      <td>Frida</td>\n",
       "      <td>2002</td>\n",
       "      <td>[salmahayek, alfredmolina, míamaestro, patriciareyesspíndola]</td>\n",
       "      <td>julietaymor</td>\n",
       "    </tr>\n",
       "    <tr>\n",
       "      <th>3887</th>\n",
       "      <td><img src='http://image.tmdb.org/t/p/w185//vr2j9a0tRKSTMtpBitOTtTziF0z.jpg' style='height:100px;'></td>\n",
       "      <td>Iris</td>\n",
       "      <td>2001</td>\n",
       "      <td>[judidench, jimbroadbent, katewinslet, hughbonneville]</td>\n",
       "      <td>richardeyre</td>\n",
       "    </tr>\n",
       "  </tbody>\n",
       "</table>"
      ],
      "text/plain": [
       "<IPython.core.display.HTML object>"
      ]
     },
     "execution_count": 114,
     "metadata": {},
     "output_type": "execute_result"
    }
   ],
   "source": [
    "get_recommendation_2('Before Sunset')\n",
    "HTML(get_recommendation_2('Before Sunset').to_html(escape=False))"
   ]
  },
  {
   "cell_type": "markdown",
   "metadata": {},
   "source": [
    "# 3. Collaborative Filtering"
   ]
  },
  {
   "cell_type": "markdown",
   "metadata": {},
   "source": [
    "The above recommendation models has one limitation, It is not user centric, It will only recommend the movies which are close to the given movies.\n",
    "I will use Surprise library for more user centric recommendations"
   ]
  },
  {
   "cell_type": "code",
   "execution_count": 115,
   "metadata": {},
   "outputs": [],
   "source": [
    "reader = Reader()"
   ]
  },
  {
   "cell_type": "code",
   "execution_count": 116,
   "metadata": {},
   "outputs": [
    {
     "data": {
      "text/html": [
       "<div>\n",
       "<style scoped>\n",
       "    .dataframe tbody tr th:only-of-type {\n",
       "        vertical-align: middle;\n",
       "    }\n",
       "\n",
       "    .dataframe tbody tr th {\n",
       "        vertical-align: top;\n",
       "    }\n",
       "\n",
       "    .dataframe thead th {\n",
       "        text-align: right;\n",
       "    }\n",
       "</style>\n",
       "<table border=\"1\" class=\"dataframe\">\n",
       "  <thead>\n",
       "    <tr style=\"text-align: right;\">\n",
       "      <th></th>\n",
       "      <th>userId</th>\n",
       "      <th>movieId</th>\n",
       "      <th>rating</th>\n",
       "      <th>timestamp</th>\n",
       "    </tr>\n",
       "  </thead>\n",
       "  <tbody>\n",
       "    <tr>\n",
       "      <th>0</th>\n",
       "      <td>1</td>\n",
       "      <td>31</td>\n",
       "      <td>2.5</td>\n",
       "      <td>1260759144</td>\n",
       "    </tr>\n",
       "    <tr>\n",
       "      <th>1</th>\n",
       "      <td>1</td>\n",
       "      <td>1029</td>\n",
       "      <td>3.0</td>\n",
       "      <td>1260759179</td>\n",
       "    </tr>\n",
       "    <tr>\n",
       "      <th>2</th>\n",
       "      <td>1</td>\n",
       "      <td>1061</td>\n",
       "      <td>3.0</td>\n",
       "      <td>1260759182</td>\n",
       "    </tr>\n",
       "    <tr>\n",
       "      <th>3</th>\n",
       "      <td>1</td>\n",
       "      <td>1129</td>\n",
       "      <td>2.0</td>\n",
       "      <td>1260759185</td>\n",
       "    </tr>\n",
       "    <tr>\n",
       "      <th>4</th>\n",
       "      <td>1</td>\n",
       "      <td>1172</td>\n",
       "      <td>4.0</td>\n",
       "      <td>1260759205</td>\n",
       "    </tr>\n",
       "  </tbody>\n",
       "</table>\n",
       "</div>"
      ],
      "text/plain": [
       "   userId  movieId  rating   timestamp\n",
       "0       1       31     2.5  1260759144\n",
       "1       1     1029     3.0  1260759179\n",
       "2       1     1061     3.0  1260759182\n",
       "3       1     1129     2.0  1260759185\n",
       "4       1     1172     4.0  1260759205"
      ]
     },
     "execution_count": 116,
     "metadata": {},
     "output_type": "execute_result"
    }
   ],
   "source": [
    "ratings = pd.read_csv('ratings_small.csv')\n",
    "ratings.head()"
   ]
  },
  {
   "cell_type": "code",
   "execution_count": 117,
   "metadata": {},
   "outputs": [
    {
     "data": {
      "text/plain": [
       "9066"
      ]
     },
     "execution_count": 117,
     "metadata": {},
     "output_type": "execute_result"
    }
   ],
   "source": [
    "ratings['movieId'].nunique()"
   ]
  },
  {
   "cell_type": "code",
   "execution_count": 118,
   "metadata": {},
   "outputs": [
    {
     "name": "stderr",
     "output_type": "stream",
     "text": [
      "/Users/suyashchavan/anaconda3/lib/python3.7/site-packages/surprise/evaluate.py:66: UserWarning: The evaluate() method is deprecated. Please use model_selection.cross_validate() instead.\n",
      "  'model_selection.cross_validate() instead.', UserWarning)\n",
      "/Users/suyashchavan/anaconda3/lib/python3.7/site-packages/surprise/dataset.py:193: UserWarning: Using data.split() or using load_from_folds() without using a CV iterator is now deprecated. \n",
      "  UserWarning)\n"
     ]
    },
    {
     "name": "stdout",
     "output_type": "stream",
     "text": [
      "Evaluating RMSE, MAE of algorithm SVD.\n",
      "\n",
      "------------\n",
      "Fold 1\n",
      "RMSE: 0.8976\n",
      "MAE:  0.6897\n",
      "------------\n",
      "Fold 2\n",
      "RMSE: 0.8915\n",
      "MAE:  0.6879\n",
      "------------\n",
      "Fold 3\n",
      "RMSE: 0.8993\n",
      "MAE:  0.6939\n",
      "------------\n",
      "Fold 4\n",
      "RMSE: 0.9022\n",
      "MAE:  0.6942\n",
      "------------\n",
      "Fold 5\n",
      "RMSE: 0.8959\n",
      "MAE:  0.6900\n",
      "------------\n",
      "------------\n",
      "Mean RMSE: 0.8973\n",
      "Mean MAE : 0.6911\n",
      "------------\n",
      "------------\n"
     ]
    },
    {
     "data": {
      "text/plain": [
       "CaseInsensitiveDefaultDict(list,\n",
       "                           {'rmse': [0.8976340079189299,\n",
       "                             0.8914695394582584,\n",
       "                             0.8993006431621312,\n",
       "                             0.9021528138098897,\n",
       "                             0.895931173341792],\n",
       "                            'mae': [0.689713853205912,\n",
       "                             0.6878668373981629,\n",
       "                             0.6939102476430006,\n",
       "                             0.6942286979321564,\n",
       "                             0.6900248249026474]})"
      ]
     },
     "execution_count": 118,
     "metadata": {},
     "output_type": "execute_result"
    }
   ],
   "source": [
    "data = Dataset.load_from_df(ratings[['userId','movieId','rating']],reader)\n",
    "data.split(n_folds=5)\n",
    "svd = SVD()\n",
    "evaluate(algo=svd,data=data,measures=['RMSE','MAE'])"
   ]
  },
  {
   "cell_type": "code",
   "execution_count": 119,
   "metadata": {},
   "outputs": [
    {
     "name": "stderr",
     "output_type": "stream",
     "text": [
      "/Users/suyashchavan/anaconda3/lib/python3.7/site-packages/surprise/prediction_algorithms/algo_base.py:51: UserWarning: train() is deprecated. Use fit() instead\n",
      "  warnings.warn('train() is deprecated. Use fit() instead', UserWarning)\n"
     ]
    },
    {
     "data": {
      "text/plain": [
       "<surprise.prediction_algorithms.matrix_factorization.SVD at 0x1a19bdad68>"
      ]
     },
     "execution_count": 119,
     "metadata": {},
     "output_type": "execute_result"
    }
   ],
   "source": [
    "trainset = data.build_full_trainset()\n",
    "svd.train(trainset)"
   ]
  },
  {
   "cell_type": "code",
   "execution_count": 122,
   "metadata": {},
   "outputs": [
    {
     "data": {
      "text/html": [
       "<div>\n",
       "<style scoped>\n",
       "    .dataframe tbody tr th:only-of-type {\n",
       "        vertical-align: middle;\n",
       "    }\n",
       "\n",
       "    .dataframe tbody tr th {\n",
       "        vertical-align: top;\n",
       "    }\n",
       "\n",
       "    .dataframe thead th {\n",
       "        text-align: right;\n",
       "    }\n",
       "</style>\n",
       "<table border=\"1\" class=\"dataframe\">\n",
       "  <thead>\n",
       "    <tr style=\"text-align: right;\">\n",
       "      <th></th>\n",
       "      <th>userId</th>\n",
       "      <th>movieId</th>\n",
       "      <th>rating</th>\n",
       "      <th>timestamp</th>\n",
       "    </tr>\n",
       "  </thead>\n",
       "  <tbody>\n",
       "    <tr>\n",
       "      <th>744</th>\n",
       "      <td>10</td>\n",
       "      <td>50</td>\n",
       "      <td>5.0</td>\n",
       "      <td>942766420</td>\n",
       "    </tr>\n",
       "    <tr>\n",
       "      <th>745</th>\n",
       "      <td>10</td>\n",
       "      <td>152</td>\n",
       "      <td>4.0</td>\n",
       "      <td>942766793</td>\n",
       "    </tr>\n",
       "    <tr>\n",
       "      <th>746</th>\n",
       "      <td>10</td>\n",
       "      <td>318</td>\n",
       "      <td>4.0</td>\n",
       "      <td>942766515</td>\n",
       "    </tr>\n",
       "    <tr>\n",
       "      <th>747</th>\n",
       "      <td>10</td>\n",
       "      <td>344</td>\n",
       "      <td>3.0</td>\n",
       "      <td>942766603</td>\n",
       "    </tr>\n",
       "    <tr>\n",
       "      <th>748</th>\n",
       "      <td>10</td>\n",
       "      <td>345</td>\n",
       "      <td>4.0</td>\n",
       "      <td>942766603</td>\n",
       "    </tr>\n",
       "    <tr>\n",
       "      <th>749</th>\n",
       "      <td>10</td>\n",
       "      <td>592</td>\n",
       "      <td>3.0</td>\n",
       "      <td>942767328</td>\n",
       "    </tr>\n",
       "    <tr>\n",
       "      <th>750</th>\n",
       "      <td>10</td>\n",
       "      <td>735</td>\n",
       "      <td>4.0</td>\n",
       "      <td>942766974</td>\n",
       "    </tr>\n",
       "    <tr>\n",
       "      <th>751</th>\n",
       "      <td>10</td>\n",
       "      <td>1036</td>\n",
       "      <td>3.0</td>\n",
       "      <td>942767258</td>\n",
       "    </tr>\n",
       "    <tr>\n",
       "      <th>752</th>\n",
       "      <td>10</td>\n",
       "      <td>1089</td>\n",
       "      <td>3.0</td>\n",
       "      <td>942766420</td>\n",
       "    </tr>\n",
       "    <tr>\n",
       "      <th>753</th>\n",
       "      <td>10</td>\n",
       "      <td>1101</td>\n",
       "      <td>2.0</td>\n",
       "      <td>942767328</td>\n",
       "    </tr>\n",
       "  </tbody>\n",
       "</table>\n",
       "</div>"
      ],
      "text/plain": [
       "     userId  movieId  rating  timestamp\n",
       "744      10       50     5.0  942766420\n",
       "745      10      152     4.0  942766793\n",
       "746      10      318     4.0  942766515\n",
       "747      10      344     3.0  942766603\n",
       "748      10      345     4.0  942766603\n",
       "749      10      592     3.0  942767328\n",
       "750      10      735     4.0  942766974\n",
       "751      10     1036     3.0  942767258\n",
       "752      10     1089     3.0  942766420\n",
       "753      10     1101     2.0  942767328"
      ]
     },
     "execution_count": 122,
     "metadata": {},
     "output_type": "execute_result"
    }
   ],
   "source": [
    "ratings[ratings['userId']==10][:10]      # These are first 10 ratings given by user with userid10"
   ]
  },
  {
   "cell_type": "code",
   "execution_count": 124,
   "metadata": {},
   "outputs": [
    {
     "data": {
      "text/plain": [
       "Prediction(uid=10, iid=33, r_ui=None, est=3.565545318581256, details={'was_impossible': False})"
      ]
     },
     "execution_count": 124,
     "metadata": {},
     "output_type": "execute_result"
    }
   ],
   "source": [
    "svd.predict(uid=10,iid=33)"
   ]
  },
  {
   "cell_type": "markdown",
   "metadata": {},
   "source": [
    "The model predict rating given by userid 10 to movie id 33 is 3.56. This is purely on how other user have given rating to the movie and how their ratings are similar to userid10"
   ]
  },
  {
   "cell_type": "markdown",
   "metadata": {},
   "source": [
    "# 4. Hybrid Recommender"
   ]
  },
  {
   "cell_type": "markdown",
   "metadata": {},
   "source": [
    "We will collaborate the content based(Metadata based) and collaborative filtering recommenders"
   ]
  },
  {
   "cell_type": "code",
   "execution_count": 125,
   "metadata": {},
   "outputs": [],
   "source": [
    "def convert_int(x):\n",
    "    try:\n",
    "        return int(x)\n",
    "    except:\n",
    "        return np.nan"
   ]
  },
  {
   "cell_type": "code",
   "execution_count": 126,
   "metadata": {},
   "outputs": [
    {
     "data": {
      "text/html": [
       "<div>\n",
       "<style scoped>\n",
       "    .dataframe tbody tr th:only-of-type {\n",
       "        vertical-align: middle;\n",
       "    }\n",
       "\n",
       "    .dataframe tbody tr th {\n",
       "        vertical-align: top;\n",
       "    }\n",
       "\n",
       "    .dataframe thead th {\n",
       "        text-align: right;\n",
       "    }\n",
       "</style>\n",
       "<table border=\"1\" class=\"dataframe\">\n",
       "  <thead>\n",
       "    <tr style=\"text-align: right;\">\n",
       "      <th></th>\n",
       "      <th>movieId</th>\n",
       "      <th>imdbId</th>\n",
       "      <th>tmdbId</th>\n",
       "    </tr>\n",
       "  </thead>\n",
       "  <tbody>\n",
       "    <tr>\n",
       "      <th>0</th>\n",
       "      <td>1</td>\n",
       "      <td>114709</td>\n",
       "      <td>862.0</td>\n",
       "    </tr>\n",
       "    <tr>\n",
       "      <th>1</th>\n",
       "      <td>2</td>\n",
       "      <td>113497</td>\n",
       "      <td>8844.0</td>\n",
       "    </tr>\n",
       "    <tr>\n",
       "      <th>2</th>\n",
       "      <td>3</td>\n",
       "      <td>113228</td>\n",
       "      <td>15602.0</td>\n",
       "    </tr>\n",
       "    <tr>\n",
       "      <th>3</th>\n",
       "      <td>4</td>\n",
       "      <td>114885</td>\n",
       "      <td>31357.0</td>\n",
       "    </tr>\n",
       "    <tr>\n",
       "      <th>4</th>\n",
       "      <td>5</td>\n",
       "      <td>113041</td>\n",
       "      <td>11862.0</td>\n",
       "    </tr>\n",
       "  </tbody>\n",
       "</table>\n",
       "</div>"
      ],
      "text/plain": [
       "   movieId  imdbId   tmdbId\n",
       "0        1  114709    862.0\n",
       "1        2  113497   8844.0\n",
       "2        3  113228  15602.0\n",
       "3        4  114885  31357.0\n",
       "4        5  113041  11862.0"
      ]
     },
     "execution_count": 126,
     "metadata": {},
     "output_type": "execute_result"
    }
   ],
   "source": [
    "id_map = pd.read_csv('links_small.csv')\n",
    "id_map.head()"
   ]
  },
  {
   "cell_type": "code",
   "execution_count": 127,
   "metadata": {},
   "outputs": [
    {
     "data": {
      "text/plain": [
       "9125"
      ]
     },
     "execution_count": 127,
     "metadata": {},
     "output_type": "execute_result"
    }
   ],
   "source": [
    "id_map = id_map[['movieId','tmdbId']]\n",
    "id_map['movieId'].nunique()"
   ]
  },
  {
   "cell_type": "code",
   "execution_count": 128,
   "metadata": {},
   "outputs": [
    {
     "data": {
      "text/html": [
       "<div>\n",
       "<style scoped>\n",
       "    .dataframe tbody tr th:only-of-type {\n",
       "        vertical-align: middle;\n",
       "    }\n",
       "\n",
       "    .dataframe tbody tr th {\n",
       "        vertical-align: top;\n",
       "    }\n",
       "\n",
       "    .dataframe thead th {\n",
       "        text-align: right;\n",
       "    }\n",
       "</style>\n",
       "<table border=\"1\" class=\"dataframe\">\n",
       "  <thead>\n",
       "    <tr style=\"text-align: right;\">\n",
       "      <th></th>\n",
       "      <th>movieId</th>\n",
       "      <th>id</th>\n",
       "    </tr>\n",
       "    <tr>\n",
       "      <th>title</th>\n",
       "      <th></th>\n",
       "      <th></th>\n",
       "    </tr>\n",
       "  </thead>\n",
       "  <tbody>\n",
       "    <tr>\n",
       "      <th>Toy Story</th>\n",
       "      <td>1</td>\n",
       "      <td>862.0</td>\n",
       "    </tr>\n",
       "    <tr>\n",
       "      <th>Jumanji</th>\n",
       "      <td>2</td>\n",
       "      <td>8844.0</td>\n",
       "    </tr>\n",
       "    <tr>\n",
       "      <th>Grumpier Old Men</th>\n",
       "      <td>3</td>\n",
       "      <td>15602.0</td>\n",
       "    </tr>\n",
       "    <tr>\n",
       "      <th>Waiting to Exhale</th>\n",
       "      <td>4</td>\n",
       "      <td>31357.0</td>\n",
       "    </tr>\n",
       "    <tr>\n",
       "      <th>Father of the Bride Part II</th>\n",
       "      <td>5</td>\n",
       "      <td>11862.0</td>\n",
       "    </tr>\n",
       "  </tbody>\n",
       "</table>\n",
       "</div>"
      ],
      "text/plain": [
       "                             movieId       id\n",
       "title                                        \n",
       "Toy Story                          1    862.0\n",
       "Jumanji                            2   8844.0\n",
       "Grumpier Old Men                   3  15602.0\n",
       "Waiting to Exhale                  4  31357.0\n",
       "Father of the Bride Part II        5  11862.0"
      ]
     },
     "execution_count": 128,
     "metadata": {},
     "output_type": "execute_result"
    }
   ],
   "source": [
    "id_map.columns= ['movieId','id']\n",
    "id_map = id_map.merge(smd[['title','id']],on='id').set_index('title')\n",
    "id_map.head()"
   ]
  },
  {
   "cell_type": "code",
   "execution_count": 129,
   "metadata": {},
   "outputs": [
    {
     "data": {
      "text/html": [
       "<div>\n",
       "<style scoped>\n",
       "    .dataframe tbody tr th:only-of-type {\n",
       "        vertical-align: middle;\n",
       "    }\n",
       "\n",
       "    .dataframe tbody tr th {\n",
       "        vertical-align: top;\n",
       "    }\n",
       "\n",
       "    .dataframe thead th {\n",
       "        text-align: right;\n",
       "    }\n",
       "</style>\n",
       "<table border=\"1\" class=\"dataframe\">\n",
       "  <thead>\n",
       "    <tr style=\"text-align: right;\">\n",
       "      <th></th>\n",
       "      <th>movieId</th>\n",
       "    </tr>\n",
       "    <tr>\n",
       "      <th>id</th>\n",
       "      <th></th>\n",
       "    </tr>\n",
       "  </thead>\n",
       "  <tbody>\n",
       "    <tr>\n",
       "      <th>862.0</th>\n",
       "      <td>1</td>\n",
       "    </tr>\n",
       "    <tr>\n",
       "      <th>8844.0</th>\n",
       "      <td>2</td>\n",
       "    </tr>\n",
       "    <tr>\n",
       "      <th>15602.0</th>\n",
       "      <td>3</td>\n",
       "    </tr>\n",
       "    <tr>\n",
       "      <th>31357.0</th>\n",
       "      <td>4</td>\n",
       "    </tr>\n",
       "    <tr>\n",
       "      <th>11862.0</th>\n",
       "      <td>5</td>\n",
       "    </tr>\n",
       "  </tbody>\n",
       "</table>\n",
       "</div>"
      ],
      "text/plain": [
       "         movieId\n",
       "id              \n",
       "862.0          1\n",
       "8844.0         2\n",
       "15602.0        3\n",
       "31357.0        4\n",
       "11862.0        5"
      ]
     },
     "execution_count": 129,
     "metadata": {},
     "output_type": "execute_result"
    }
   ],
   "source": [
    "indices_map = id_map.set_index('id')\n",
    "indices_map.head()"
   ]
  },
  {
   "cell_type": "code",
   "execution_count": 130,
   "metadata": {},
   "outputs": [
    {
     "data": {
      "text/plain": [
       "title\n",
       "Toy Story           0\n",
       "Jumanji             1\n",
       "Grumpier Old Men    2\n",
       "dtype: int64"
      ]
     },
     "execution_count": 130,
     "metadata": {},
     "output_type": "execute_result"
    }
   ],
   "source": [
    "indices.head(3)"
   ]
  },
  {
   "cell_type": "code",
   "execution_count": 131,
   "metadata": {},
   "outputs": [
    {
     "data": {
      "text/plain": [
       "0           Toy Story\n",
       "1             Jumanji\n",
       "2    Grumpier Old Men\n",
       "Name: title, dtype: object"
      ]
     },
     "execution_count": 131,
     "metadata": {},
     "output_type": "execute_result"
    }
   ],
   "source": [
    "titles.head(3)"
   ]
  },
  {
   "cell_type": "code",
   "execution_count": 132,
   "metadata": {},
   "outputs": [],
   "source": [
    "def hybrid_recommender(userId,title):\n",
    "    idx = indices[title]\n",
    "    tmdbId = id_map.loc[title]['id']\n",
    "    movie_id = id_map.loc[title]['movieId']\n",
    "    \n",
    "    sim_scores = list(enumerate(cosine_sim[int(idx)]))\n",
    "    sim_scores = sorted(sim_scores,key=lambda x:x[1],reverse=True)\n",
    "    sim_scores = sim_scores[1:51]\n",
    "    movie_indices = [x[0] for x in sim_scores]\n",
    "    movies = smd.loc[movie_indices][['poster_path','title','vote_count','vote_average','year','id']]\n",
    "    movies['est'] = movies['id'].apply(lambda x : svd.predict(userId,indices_map.loc[x]['movieId']).est)\n",
    "    movies = movies.sort_values('est',ascending=False)\n",
    "    \n",
    "    return movies.head(10)"
   ]
  },
  {
   "cell_type": "code",
   "execution_count": 133,
   "metadata": {},
   "outputs": [
    {
     "data": {
      "text/html": [
       "<table border=\"1\" class=\"dataframe\">\n",
       "  <thead>\n",
       "    <tr style=\"text-align: right;\">\n",
       "      <th></th>\n",
       "      <th>poster_path</th>\n",
       "      <th>title</th>\n",
       "      <th>vote_count</th>\n",
       "      <th>vote_average</th>\n",
       "      <th>year</th>\n",
       "      <th>id</th>\n",
       "      <th>est</th>\n",
       "    </tr>\n",
       "  </thead>\n",
       "  <tbody>\n",
       "    <tr>\n",
       "      <th>1001</th>\n",
       "      <td><img src='http://image.tmdb.org/t/p/w185//cbTfaMrWpZWwF3mY40v1SKaAVCx.jpg' style='height:100px;'></td>\n",
       "      <td>Raging Bull</td>\n",
       "      <td>968.0</td>\n",
       "      <td>7.7</td>\n",
       "      <td>1980</td>\n",
       "      <td>1578</td>\n",
       "      <td>3.460889</td>\n",
       "    </tr>\n",
       "    <tr>\n",
       "      <th>4480</th>\n",
       "      <td><img src='http://image.tmdb.org/t/p/w185//gCqnQaq8T4CfioP9uETLx9iMJF4.jpg' style='height:100px;'></td>\n",
       "      <td>City of God</td>\n",
       "      <td>1852.0</td>\n",
       "      <td>8.2</td>\n",
       "      <td>2002</td>\n",
       "      <td>598</td>\n",
       "      <td>3.444383</td>\n",
       "    </tr>\n",
       "    <tr>\n",
       "      <th>994</th>\n",
       "      <td><img src='http://image.tmdb.org/t/p/w185//bVq65huQ8vHDd1a4Z37QtuyEvpA.jpg' style='height:100px;'></td>\n",
       "      <td>The Godfather: Part II</td>\n",
       "      <td>3418.0</td>\n",
       "      <td>8.3</td>\n",
       "      <td>1974</td>\n",
       "      <td>240</td>\n",
       "      <td>3.283102</td>\n",
       "    </tr>\n",
       "    <tr>\n",
       "      <th>6599</th>\n",
       "      <td><img src='http://image.tmdb.org/t/p/w185//tGLO9zw5ZtCeyyEWgbYGgsFxC6i.jpg' style='height:100px;'></td>\n",
       "      <td>The Departed</td>\n",
       "      <td>4455.0</td>\n",
       "      <td>7.9</td>\n",
       "      <td>2006</td>\n",
       "      <td>1422</td>\n",
       "      <td>3.265151</td>\n",
       "    </tr>\n",
       "    <tr>\n",
       "      <th>2441</th>\n",
       "      <td><img src='http://image.tmdb.org/t/p/w185//zS5kDGjVGHHryzuG9HjazYLXSTO.jpg' style='height:100px;'></td>\n",
       "      <td>Drugstore Cowboy</td>\n",
       "      <td>117.0</td>\n",
       "      <td>7.0</td>\n",
       "      <td>1989</td>\n",
       "      <td>476</td>\n",
       "      <td>3.162636</td>\n",
       "    </tr>\n",
       "    <tr>\n",
       "      <th>8544</th>\n",
       "      <td><img src='http://image.tmdb.org/t/p/w185//vK1o5rZGqxyovfIhZyMELhk03wO.jpg' style='height:100px;'></td>\n",
       "      <td>The Wolf of Wall Street</td>\n",
       "      <td>6768.0</td>\n",
       "      <td>7.9</td>\n",
       "      <td>2013</td>\n",
       "      <td>106646</td>\n",
       "      <td>3.153815</td>\n",
       "    </tr>\n",
       "    <tr>\n",
       "      <th>101</th>\n",
       "      <td><img src='http://image.tmdb.org/t/p/w185//yxq4pk1xGmro8tQABuQIrWrvdaE.jpg' style='height:100px;'></td>\n",
       "      <td>Taxi Driver</td>\n",
       "      <td>2632.0</td>\n",
       "      <td>8.1</td>\n",
       "      <td>1976</td>\n",
       "      <td>103</td>\n",
       "      <td>3.152231</td>\n",
       "    </tr>\n",
       "    <tr>\n",
       "      <th>5376</th>\n",
       "      <td><img src='http://image.tmdb.org/t/p/w185//3awGnJPs7XmGyCB2eFdxVm6GlGd.jpg' style='height:100px;'></td>\n",
       "      <td>Mean Streets</td>\n",
       "      <td>359.0</td>\n",
       "      <td>7.2</td>\n",
       "      <td>1973</td>\n",
       "      <td>203</td>\n",
       "      <td>3.145608</td>\n",
       "    </tr>\n",
       "    <tr>\n",
       "      <th>3344</th>\n",
       "      <td><img src='http://image.tmdb.org/t/p/w185//nQLPLxLv1xaD5pG9jAEKFJuQgFY.jpg' style='height:100px;'></td>\n",
       "      <td>Pixote</td>\n",
       "      <td>24.0</td>\n",
       "      <td>8.4</td>\n",
       "      <td>1981</td>\n",
       "      <td>42148</td>\n",
       "      <td>3.105475</td>\n",
       "    </tr>\n",
       "    <tr>\n",
       "      <th>154</th>\n",
       "      <td><img src='http://image.tmdb.org/t/p/w185//gMuV7ORN8rRfQPMImby8KRGihO2.jpg' style='height:100px;'></td>\n",
       "      <td>Kids</td>\n",
       "      <td>280.0</td>\n",
       "      <td>6.8</td>\n",
       "      <td>1995</td>\n",
       "      <td>9344</td>\n",
       "      <td>3.086253</td>\n",
       "    </tr>\n",
       "  </tbody>\n",
       "</table>"
      ],
      "text/plain": [
       "<IPython.core.display.HTML object>"
      ]
     },
     "execution_count": 133,
     "metadata": {},
     "output_type": "execute_result"
    }
   ],
   "source": [
    "hybrid_recommender(1,'Casino')\n",
    "HTML(hybrid_recommender(1,'Casino').to_html(escape=False))"
   ]
  },
  {
   "cell_type": "code",
   "execution_count": 137,
   "metadata": {},
   "outputs": [
    {
     "data": {
      "text/html": [
       "<table border=\"1\" class=\"dataframe\">\n",
       "  <thead>\n",
       "    <tr style=\"text-align: right;\">\n",
       "      <th></th>\n",
       "      <th>poster_path</th>\n",
       "      <th>title</th>\n",
       "      <th>vote_count</th>\n",
       "      <th>vote_average</th>\n",
       "      <th>year</th>\n",
       "      <th>id</th>\n",
       "      <th>est</th>\n",
       "    </tr>\n",
       "  </thead>\n",
       "  <tbody>\n",
       "    <tr>\n",
       "      <th>6599</th>\n",
       "      <td><img src='http://image.tmdb.org/t/p/w185//tGLO9zw5ZtCeyyEWgbYGgsFxC6i.jpg' style='height:100px;'></td>\n",
       "      <td>The Departed</td>\n",
       "      <td>4455.0</td>\n",
       "      <td>7.9</td>\n",
       "      <td>2006</td>\n",
       "      <td>1422</td>\n",
       "      <td>4.224460</td>\n",
       "    </tr>\n",
       "    <tr>\n",
       "      <th>1001</th>\n",
       "      <td><img src='http://image.tmdb.org/t/p/w185//cbTfaMrWpZWwF3mY40v1SKaAVCx.jpg' style='height:100px;'></td>\n",
       "      <td>Raging Bull</td>\n",
       "      <td>968.0</td>\n",
       "      <td>7.7</td>\n",
       "      <td>1980</td>\n",
       "      <td>1578</td>\n",
       "      <td>4.133197</td>\n",
       "    </tr>\n",
       "    <tr>\n",
       "      <th>4480</th>\n",
       "      <td><img src='http://image.tmdb.org/t/p/w185//gCqnQaq8T4CfioP9uETLx9iMJF4.jpg' style='height:100px;'></td>\n",
       "      <td>City of God</td>\n",
       "      <td>1852.0</td>\n",
       "      <td>8.2</td>\n",
       "      <td>2002</td>\n",
       "      <td>598</td>\n",
       "      <td>4.082392</td>\n",
       "    </tr>\n",
       "    <tr>\n",
       "      <th>101</th>\n",
       "      <td><img src='http://image.tmdb.org/t/p/w185//yxq4pk1xGmro8tQABuQIrWrvdaE.jpg' style='height:100px;'></td>\n",
       "      <td>Taxi Driver</td>\n",
       "      <td>2632.0</td>\n",
       "      <td>8.1</td>\n",
       "      <td>1976</td>\n",
       "      <td>103</td>\n",
       "      <td>4.062160</td>\n",
       "    </tr>\n",
       "    <tr>\n",
       "      <th>8544</th>\n",
       "      <td><img src='http://image.tmdb.org/t/p/w185//vK1o5rZGqxyovfIhZyMELhk03wO.jpg' style='height:100px;'></td>\n",
       "      <td>The Wolf of Wall Street</td>\n",
       "      <td>6768.0</td>\n",
       "      <td>7.9</td>\n",
       "      <td>2013</td>\n",
       "      <td>106646</td>\n",
       "      <td>4.033398</td>\n",
       "    </tr>\n",
       "    <tr>\n",
       "      <th>994</th>\n",
       "      <td><img src='http://image.tmdb.org/t/p/w185//bVq65huQ8vHDd1a4Z37QtuyEvpA.jpg' style='height:100px;'></td>\n",
       "      <td>The Godfather: Part II</td>\n",
       "      <td>3418.0</td>\n",
       "      <td>8.3</td>\n",
       "      <td>1974</td>\n",
       "      <td>240</td>\n",
       "      <td>3.982127</td>\n",
       "    </tr>\n",
       "    <tr>\n",
       "      <th>154</th>\n",
       "      <td><img src='http://image.tmdb.org/t/p/w185//gMuV7ORN8rRfQPMImby8KRGihO2.jpg' style='height:100px;'></td>\n",
       "      <td>Kids</td>\n",
       "      <td>280.0</td>\n",
       "      <td>6.8</td>\n",
       "      <td>1995</td>\n",
       "      <td>9344</td>\n",
       "      <td>3.916602</td>\n",
       "    </tr>\n",
       "    <tr>\n",
       "      <th>1000</th>\n",
       "      <td><img src='http://image.tmdb.org/t/p/w185//fqP3Q7DWMFqW7mh11hWXbNwN9rz.jpg' style='height:100px;'></td>\n",
       "      <td>Once Upon a Time in America</td>\n",
       "      <td>1104.0</td>\n",
       "      <td>8.3</td>\n",
       "      <td>1984</td>\n",
       "      <td>311</td>\n",
       "      <td>3.839149</td>\n",
       "    </tr>\n",
       "    <tr>\n",
       "      <th>4439</th>\n",
       "      <td><img src='http://image.tmdb.org/t/p/w185//ytKo2tLvKUd9Kbs0poXSQh6ft7d.jpg' style='height:100px;'></td>\n",
       "      <td>Gangs of New York</td>\n",
       "      <td>1964.0</td>\n",
       "      <td>7.1</td>\n",
       "      <td>2002</td>\n",
       "      <td>3131</td>\n",
       "      <td>3.800701</td>\n",
       "    </tr>\n",
       "    <tr>\n",
       "      <th>4465</th>\n",
       "      <td><img src='http://image.tmdb.org/t/p/w185//pbAqLKoLydP7jl6P0vmYwlDtRPD.jpg' style='height:100px;'></td>\n",
       "      <td>The King of Comedy</td>\n",
       "      <td>306.0</td>\n",
       "      <td>7.6</td>\n",
       "      <td>1982</td>\n",
       "      <td>262</td>\n",
       "      <td>3.753300</td>\n",
       "    </tr>\n",
       "  </tbody>\n",
       "</table>"
      ],
      "text/plain": [
       "<IPython.core.display.HTML object>"
      ]
     },
     "execution_count": 137,
     "metadata": {},
     "output_type": "execute_result"
    }
   ],
   "source": [
    "hybrid_recommender(120,'Casino')\n",
    "HTML(hybrid_recommender(120,'Casino').to_html(escape=False))"
   ]
  },
  {
   "cell_type": "markdown",
   "metadata": {},
   "source": [
    "We can clearly see that Recommendation for userId =1 & userID=120 are changed, based on users ratings history(indirectly say his liking)"
   ]
  },
  {
   "cell_type": "code",
   "execution_count": 134,
   "metadata": {},
   "outputs": [
    {
     "data": {
      "text/html": [
       "<table border=\"1\" class=\"dataframe\">\n",
       "  <thead>\n",
       "    <tr style=\"text-align: right;\">\n",
       "      <th></th>\n",
       "      <th>poster_path</th>\n",
       "      <th>title</th>\n",
       "      <th>vote_count</th>\n",
       "      <th>vote_average</th>\n",
       "      <th>year</th>\n",
       "      <th>id</th>\n",
       "      <th>est</th>\n",
       "    </tr>\n",
       "  </thead>\n",
       "  <tbody>\n",
       "    <tr>\n",
       "      <th>522</th>\n",
       "      <td><img src='http://image.tmdb.org/t/p/w185//2y4dmgWYRMYXdD1UyJVcn2HSd1D.jpg' style='height:100px;'></td>\n",
       "      <td>Terminator 2: Judgment Day</td>\n",
       "      <td>4274.0</td>\n",
       "      <td>7.7</td>\n",
       "      <td>1991</td>\n",
       "      <td>280</td>\n",
       "      <td>4.815166</td>\n",
       "    </tr>\n",
       "    <tr>\n",
       "      <th>2973</th>\n",
       "      <td><img src='http://image.tmdb.org/t/p/w185//voNuYkvQgDSqijCDllEaRntq7ln.jpg' style='height:100px;'></td>\n",
       "      <td>Mad Max 2: The Road Warrior</td>\n",
       "      <td>981.0</td>\n",
       "      <td>7.3</td>\n",
       "      <td>1981</td>\n",
       "      <td>8810</td>\n",
       "      <td>4.710628</td>\n",
       "    </tr>\n",
       "    <tr>\n",
       "      <th>31</th>\n",
       "      <td><img src='http://image.tmdb.org/t/p/w185//6Sj9wDu3YugthXsU0Vry5XFAZGg.jpg' style='height:100px;'></td>\n",
       "      <td>Twelve Monkeys</td>\n",
       "      <td>2470.0</td>\n",
       "      <td>7.4</td>\n",
       "      <td>1995</td>\n",
       "      <td>63</td>\n",
       "      <td>4.645206</td>\n",
       "    </tr>\n",
       "    <tr>\n",
       "      <th>2451</th>\n",
       "      <td><img src='http://image.tmdb.org/t/p/w185//kHd0BZtBfOTph7YUggtDF6EoQ9W.jpg' style='height:100px;'></td>\n",
       "      <td>The Omega Man</td>\n",
       "      <td>147.0</td>\n",
       "      <td>6.0</td>\n",
       "      <td>1971</td>\n",
       "      <td>11234</td>\n",
       "      <td>4.543042</td>\n",
       "    </tr>\n",
       "    <tr>\n",
       "      <th>2972</th>\n",
       "      <td><img src='http://image.tmdb.org/t/p/w185//hCPXcQn1FTYF9AUCPd6o3miM9WX.jpg' style='height:100px;'></td>\n",
       "      <td>Mad Max</td>\n",
       "      <td>1235.0</td>\n",
       "      <td>6.6</td>\n",
       "      <td>1979</td>\n",
       "      <td>9659</td>\n",
       "      <td>4.432499</td>\n",
       "    </tr>\n",
       "    <tr>\n",
       "      <th>1816</th>\n",
       "      <td><img src='http://image.tmdb.org/t/p/w185//8uTLYIaRBx1xZ1WXO5ksuAmqTW7.jpg' style='height:100px;'></td>\n",
       "      <td>Six-String Samurai</td>\n",
       "      <td>36.0</td>\n",
       "      <td>5.8</td>\n",
       "      <td>1998</td>\n",
       "      <td>24746</td>\n",
       "      <td>4.335143</td>\n",
       "    </tr>\n",
       "    <tr>\n",
       "      <th>3289</th>\n",
       "      <td><img src='http://image.tmdb.org/t/p/w185//k5pf2GuJu1JITLS9Rl18qlTwBkV.jpg' style='height:100px;'></td>\n",
       "      <td>Cherry 2000</td>\n",
       "      <td>67.0</td>\n",
       "      <td>6.0</td>\n",
       "      <td>1987</td>\n",
       "      <td>15785</td>\n",
       "      <td>4.321127</td>\n",
       "    </tr>\n",
       "    <tr>\n",
       "      <th>9005</th>\n",
       "      <td><img src='http://image.tmdb.org/t/p/w185//5CHJs479xWnm3zMDOl94VkKS7MZ.jpg' style='height:100px;'></td>\n",
       "      <td>Independence Day: Resurgence</td>\n",
       "      <td>2550.0</td>\n",
       "      <td>4.9</td>\n",
       "      <td>2016</td>\n",
       "      <td>47933</td>\n",
       "      <td>4.316181</td>\n",
       "    </tr>\n",
       "    <tr>\n",
       "      <th>7396</th>\n",
       "      <td><img src='http://image.tmdb.org/t/p/w185//qFd7dNvV1neXBV5OZdU5jOhdDZ6.jpg' style='height:100px;'></td>\n",
       "      <td>Pandorum</td>\n",
       "      <td>783.0</td>\n",
       "      <td>6.5</td>\n",
       "      <td>2009</td>\n",
       "      <td>19898</td>\n",
       "      <td>4.296386</td>\n",
       "    </tr>\n",
       "    <tr>\n",
       "      <th>8701</th>\n",
       "      <td><img src='http://image.tmdb.org/t/p/w185//2EUAUIu5lHFlkj5FRryohlH6CRO.jpg' style='height:100px;'></td>\n",
       "      <td>Dawn of the Planet of the Apes</td>\n",
       "      <td>4511.0</td>\n",
       "      <td>7.3</td>\n",
       "      <td>2014</td>\n",
       "      <td>119450</td>\n",
       "      <td>4.272018</td>\n",
       "    </tr>\n",
       "  </tbody>\n",
       "</table>"
      ],
      "text/plain": [
       "<IPython.core.display.HTML object>"
      ]
     },
     "execution_count": 134,
     "metadata": {},
     "output_type": "execute_result"
    }
   ],
   "source": [
    "hybrid_recommender(4,'Mad Max: Fury Road')\n",
    "HTML(hybrid_recommender(4,'Mad Max: Fury Road').to_html(escape=False))"
   ]
  },
  {
   "cell_type": "code",
   "execution_count": 138,
   "metadata": {},
   "outputs": [
    {
     "data": {
      "text/html": [
       "<table border=\"1\" class=\"dataframe\">\n",
       "  <thead>\n",
       "    <tr style=\"text-align: right;\">\n",
       "      <th></th>\n",
       "      <th>poster_path</th>\n",
       "      <th>title</th>\n",
       "      <th>vote_count</th>\n",
       "      <th>vote_average</th>\n",
       "      <th>year</th>\n",
       "      <th>id</th>\n",
       "      <th>est</th>\n",
       "    </tr>\n",
       "  </thead>\n",
       "  <tbody>\n",
       "    <tr>\n",
       "      <th>522</th>\n",
       "      <td><img src='http://image.tmdb.org/t/p/w185//2y4dmgWYRMYXdD1UyJVcn2HSd1D.jpg' style='height:100px;'></td>\n",
       "      <td>Terminator 2: Judgment Day</td>\n",
       "      <td>4274.0</td>\n",
       "      <td>7.7</td>\n",
       "      <td>1991</td>\n",
       "      <td>280</td>\n",
       "      <td>4.603420</td>\n",
       "    </tr>\n",
       "    <tr>\n",
       "      <th>31</th>\n",
       "      <td><img src='http://image.tmdb.org/t/p/w185//6Sj9wDu3YugthXsU0Vry5XFAZGg.jpg' style='height:100px;'></td>\n",
       "      <td>Twelve Monkeys</td>\n",
       "      <td>2470.0</td>\n",
       "      <td>7.4</td>\n",
       "      <td>1995</td>\n",
       "      <td>63</td>\n",
       "      <td>4.446545</td>\n",
       "    </tr>\n",
       "    <tr>\n",
       "      <th>2972</th>\n",
       "      <td><img src='http://image.tmdb.org/t/p/w185//hCPXcQn1FTYF9AUCPd6o3miM9WX.jpg' style='height:100px;'></td>\n",
       "      <td>Mad Max</td>\n",
       "      <td>1235.0</td>\n",
       "      <td>6.6</td>\n",
       "      <td>1979</td>\n",
       "      <td>9659</td>\n",
       "      <td>4.324959</td>\n",
       "    </tr>\n",
       "    <tr>\n",
       "      <th>7396</th>\n",
       "      <td><img src='http://image.tmdb.org/t/p/w185//qFd7dNvV1neXBV5OZdU5jOhdDZ6.jpg' style='height:100px;'></td>\n",
       "      <td>Pandorum</td>\n",
       "      <td>783.0</td>\n",
       "      <td>6.5</td>\n",
       "      <td>2009</td>\n",
       "      <td>19898</td>\n",
       "      <td>4.316067</td>\n",
       "    </tr>\n",
       "    <tr>\n",
       "      <th>7502</th>\n",
       "      <td><img src='http://image.tmdb.org/t/p/w185//qL3FnEug9DyBcaBXVb0oT3DJMJu.jpg' style='height:100px;'></td>\n",
       "      <td>The Book of Eli</td>\n",
       "      <td>2207.0</td>\n",
       "      <td>6.6</td>\n",
       "      <td>2010</td>\n",
       "      <td>20504</td>\n",
       "      <td>4.241109</td>\n",
       "    </tr>\n",
       "    <tr>\n",
       "      <th>2973</th>\n",
       "      <td><img src='http://image.tmdb.org/t/p/w185//voNuYkvQgDSqijCDllEaRntq7ln.jpg' style='height:100px;'></td>\n",
       "      <td>Mad Max 2: The Road Warrior</td>\n",
       "      <td>981.0</td>\n",
       "      <td>7.3</td>\n",
       "      <td>1981</td>\n",
       "      <td>8810</td>\n",
       "      <td>4.231877</td>\n",
       "    </tr>\n",
       "    <tr>\n",
       "      <th>6576</th>\n",
       "      <td><img src='http://image.tmdb.org/t/p/w185//gxpTseXRrHCgL0Igm1CrKD5JQNg.jpg' style='height:100px;'></td>\n",
       "      <td>The Covenant</td>\n",
       "      <td>295.0</td>\n",
       "      <td>5.2</td>\n",
       "      <td>2006</td>\n",
       "      <td>9954</td>\n",
       "      <td>4.210226</td>\n",
       "    </tr>\n",
       "    <tr>\n",
       "      <th>9005</th>\n",
       "      <td><img src='http://image.tmdb.org/t/p/w185//5CHJs479xWnm3zMDOl94VkKS7MZ.jpg' style='height:100px;'></td>\n",
       "      <td>Independence Day: Resurgence</td>\n",
       "      <td>2550.0</td>\n",
       "      <td>4.9</td>\n",
       "      <td>2016</td>\n",
       "      <td>47933</td>\n",
       "      <td>4.188934</td>\n",
       "    </tr>\n",
       "    <tr>\n",
       "      <th>6173</th>\n",
       "      <td><img src='http://image.tmdb.org/t/p/w185//uHPD4r4ahqHfzNS7hrXdZuuflGm.jpg' style='height:100px;'></td>\n",
       "      <td>Sexmission</td>\n",
       "      <td>49.0</td>\n",
       "      <td>7.4</td>\n",
       "      <td>1984</td>\n",
       "      <td>19673</td>\n",
       "      <td>4.150092</td>\n",
       "    </tr>\n",
       "    <tr>\n",
       "      <th>7208</th>\n",
       "      <td><img src='http://image.tmdb.org/t/p/w185//fDLxydXWphlMt1ThhnsKybuhgO4.jpg' style='height:100px;'></td>\n",
       "      <td>Replicant</td>\n",
       "      <td>93.0</td>\n",
       "      <td>5.0</td>\n",
       "      <td>2001</td>\n",
       "      <td>10596</td>\n",
       "      <td>4.130289</td>\n",
       "    </tr>\n",
       "  </tbody>\n",
       "</table>"
      ],
      "text/plain": [
       "<IPython.core.display.HTML object>"
      ]
     },
     "execution_count": 138,
     "metadata": {},
     "output_type": "execute_result"
    }
   ],
   "source": [
    "hybrid_recommender(40,'Mad Max: Fury Road')\n",
    "HTML(hybrid_recommender(40,'Mad Max: Fury Road').to_html(escape=False))"
   ]
  },
  {
   "cell_type": "code",
   "execution_count": null,
   "metadata": {},
   "outputs": [],
   "source": []
  }
 ],
 "metadata": {
  "kernelspec": {
   "display_name": "Python 3",
   "language": "python",
   "name": "python3"
  },
  "language_info": {
   "codemirror_mode": {
    "name": "ipython",
    "version": 3
   },
   "file_extension": ".py",
   "mimetype": "text/x-python",
   "name": "python",
   "nbconvert_exporter": "python",
   "pygments_lexer": "ipython3",
   "version": "3.7.2"
  }
 },
 "nbformat": 4,
 "nbformat_minor": 2
}
